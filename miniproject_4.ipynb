{
 "cells": [
  {
   "cell_type": "markdown",
   "metadata": {},
   "source": [
    "<center><h1>Mini Project 4</h1></center>\n",
    "<center><h2>Watchanan Chantapakul (<a href=\"mailto:wcgzm@umsystem.edu\"><code>wcgzm</code></a>)</h2></center>\n",
    "<hr />"
   ]
  },
  {
   "cell_type": "code",
   "execution_count": 1,
   "metadata": {},
   "outputs": [],
   "source": [
    "import numpy as np\n",
    "from IPython.display import display, Math\n",
    "import matplotlib.pyplot as plt"
   ]
  },
  {
   "cell_type": "code",
   "execution_count": 2,
   "metadata": {},
   "outputs": [],
   "source": [
    "class1_samples = np.array([\n",
    "    [0.42, -0.087, 0.58],\n",
    "    [-0.2, -3.3, -3.4],\n",
    "    [1.3, -0.32, 1.7],\n",
    "    [0.39, 0.71, 0.23],\n",
    "    [-1.6, -5.3, -0.15],\n",
    "    [-0.029, 0.89, -4.7],\n",
    "    [-0.23, 1.9, 2.2],\n",
    "    [0.27, -0.3, -0.87],\n",
    "    [-1.9, 0.76, -2.1],\n",
    "    [0.87, -1.0, -2.6]\n",
    "])\n",
    "\n",
    "class2_samples = np.array([\n",
    "    [-0.4, 0.58, 0.089],\n",
    "    [-0.31, 0.27, -0.04],\n",
    "    [0.38, 0.055, -0.035],\n",
    "    [-0.15, 0.53, 0.011],\n",
    "    [-0.35, 0.47, 0.034],\n",
    "    [0.17, 0.69, 0.1],\n",
    "    [-0.011, 0.55, -0.18],\n",
    "    [-0.27, 0.61, 0.12],\n",
    "    [-0.065, 0.49, 0.0012],\n",
    "    [-0.12, 0.054, -0.063]\n",
    "])\n",
    "\n",
    "class3_samples = np.array([\n",
    "    [0.83, 1.6, -0.014],\n",
    "    [1.1, 1.6, 0.48],\n",
    "    [-0.44, -0.41, 0.32],\n",
    "    [0.047, -0.45, 1.4],\n",
    "    [0.28, 0.35, 3.1],\n",
    "    [-0.39, -0.48, 0.11],\n",
    "    [0.34, -0.079, 0.14],\n",
    "    [-0.3, -0.22, 2.2],\n",
    "    [1.1, 1.2, -0.46],\n",
    "    [0.18, -0.11, -0.49]\n",
    "])\n",
    "\n",
    "samples = np.array([class1_samples, class2_samples, class3_samples])"
   ]
  },
  {
   "cell_type": "code",
   "execution_count": 3,
   "metadata": {},
   "outputs": [],
   "source": [
    "def answer(text, ans):\n",
    "    if type(ans) == np.ndarray:\n",
    "        t = r'\\begin{bmatrix} '\n",
    "        for i in ans:\n",
    "#             print(i, type(i))\n",
    "#             print(r' \\\\ '.join(i))\n",
    "            if type(i) != np.ndarray:\n",
    "                t += f'{i:.4f}' + r' \\\\ '\n",
    "            else:\n",
    "                a_str = np.array2string(i, precision=4, separator=r' & ')\n",
    "                t += a_str[1:-1]\n",
    "                t += r' \\\\ '\n",
    "        t += r'\\end{bmatrix}'\n",
    "        display(Math(f'{text} = {t}'))\n",
    "    else:\n",
    "        display(Math(f'{text} = {ans:.4f}'))"
   ]
  },
  {
   "cell_type": "markdown",
   "metadata": {},
   "source": [
    "## Questions 1"
   ]
  },
  {
   "cell_type": "markdown",
   "metadata": {},
   "source": [
    "Consider Gaussian density models in different dimensions."
   ]
  },
  {
   "cell_type": "markdown",
   "metadata": {},
   "source": [
    "## (a)\n",
    "Write a program to find the maximum-likelihood values $\\hat{\\mu}$ and $\\hat{\\sigma}^2$. Apply your program individually to each of the three features $x_i$ of category $\\omega_1$ in the table above."
   ]
  },
  {
   "cell_type": "code",
   "execution_count": 4,
   "metadata": {},
   "outputs": [],
   "source": [
    "def mean(samples):\n",
    "    return np.sum(samples) / np.size(samples)"
   ]
  },
  {
   "cell_type": "code",
   "execution_count": 5,
   "metadata": {},
   "outputs": [],
   "source": [
    "a_samples1 = class1_samples[:, 0]\n",
    "a_samples2 = class1_samples[:, 1]\n",
    "a_samples3 = class1_samples[:, 2]"
   ]
  },
  {
   "cell_type": "code",
   "execution_count": 6,
   "metadata": {},
   "outputs": [],
   "source": [
    "a_mu1 = mean(a_samples1)\n",
    "a_mu2 = mean(a_samples2)\n",
    "a_mu3 = mean(a_samples3)"
   ]
  },
  {
   "cell_type": "code",
   "execution_count": 7,
   "metadata": {},
   "outputs": [
    {
     "data": {
      "text/latex": [
       "$\\displaystyle \\mu_1 = -0.0709$"
      ],
      "text/plain": [
       "<IPython.core.display.Math object>"
      ]
     },
     "metadata": {},
     "output_type": "display_data"
    },
    {
     "data": {
      "text/latex": [
       "$\\displaystyle \\mu_2 = -0.6047$"
      ],
      "text/plain": [
       "<IPython.core.display.Math object>"
      ]
     },
     "metadata": {},
     "output_type": "display_data"
    },
    {
     "data": {
      "text/latex": [
       "$\\displaystyle \\mu_3 = -0.9110$"
      ],
      "text/plain": [
       "<IPython.core.display.Math object>"
      ]
     },
     "metadata": {},
     "output_type": "display_data"
    }
   ],
   "source": [
    "answer(\"\\mu_1\", a_mu1)\n",
    "answer(\"\\mu_2\", a_mu2)\n",
    "answer(\"\\mu_3\", a_mu3)"
   ]
  },
  {
   "cell_type": "markdown",
   "metadata": {},
   "source": [
    "Right here, the unbiased estimator of the population variance is used."
   ]
  },
  {
   "cell_type": "code",
   "execution_count": 8,
   "metadata": {},
   "outputs": [],
   "source": [
    "def variance(samples, mean):\n",
    "    return np.sum((samples - mean) ** 2) / (np.size(samples) - 1)"
   ]
  },
  {
   "cell_type": "code",
   "execution_count": 9,
   "metadata": {},
   "outputs": [],
   "source": [
    "a_var1 = variance(a_samples1, a_mu1)\n",
    "a_var2 = variance(a_samples2, a_mu2)\n",
    "a_var3 = variance(a_samples3, a_mu3)"
   ]
  },
  {
   "cell_type": "code",
   "execution_count": 10,
   "metadata": {},
   "outputs": [
    {
     "data": {
      "text/latex": [
       "$\\displaystyle \\sigma_1^2 = 1.0069$"
      ],
      "text/plain": [
       "<IPython.core.display.Math object>"
      ]
     },
     "metadata": {},
     "output_type": "display_data"
    },
    {
     "data": {
      "text/latex": [
       "$\\displaystyle \\sigma_2^2 = 4.6675$"
      ],
      "text/plain": [
       "<IPython.core.display.Math object>"
      ]
     },
     "metadata": {},
     "output_type": "display_data"
    },
    {
     "data": {
      "text/latex": [
       "$\\displaystyle \\sigma_3^2 = 5.0466$"
      ],
      "text/plain": [
       "<IPython.core.display.Math object>"
      ]
     },
     "metadata": {},
     "output_type": "display_data"
    }
   ],
   "source": [
    "answer(\"\\sigma_1^2\", a_var1)\n",
    "answer(\"\\sigma_2^2\", a_var2)\n",
    "answer(\"\\sigma_3^2\", a_var3)"
   ]
  },
  {
   "cell_type": "markdown",
   "metadata": {},
   "source": [
    "## (b)"
   ]
  },
  {
   "cell_type": "markdown",
   "metadata": {},
   "source": [
    "Modify your program to apply to two-dimensional Gaussian data $p(x) \\sim \\mathcal{N}(\\mathbf{\\mu}, \\mathbf{\\Sigma})$. Apply your data to each of the three possible pairings of two features for $\\omega_1$."
   ]
  },
  {
   "cell_type": "markdown",
   "metadata": {},
   "source": [
    "`samples1` consists of feature 1 and 2 for $\\omega_1$\n",
    "\n",
    "`samples2` consists of feature 1 and 3 for $\\omega_1$\n",
    "\n",
    "`samples3` consists of feature 2 and 3 for $\\omega_1$"
   ]
  },
  {
   "cell_type": "code",
   "execution_count": 11,
   "metadata": {},
   "outputs": [],
   "source": [
    "b_samples1 = class1_samples[:, [0, 1]]\n",
    "b_samples2 = class1_samples[:, [0, 2]]\n",
    "b_samples3 = class1_samples[:, [1, 2]]"
   ]
  },
  {
   "cell_type": "code",
   "execution_count": 12,
   "metadata": {},
   "outputs": [],
   "source": [
    "def b_mean(samples):\n",
    "    return np.sum(samples, axis=0) / samples.shape[0]"
   ]
  },
  {
   "cell_type": "code",
   "execution_count": 13,
   "metadata": {},
   "outputs": [],
   "source": [
    "b_mu1 = b_mean(b_samples1)\n",
    "b_mu2 = b_mean(b_samples2)\n",
    "b_mu3 = b_mean(b_samples3)"
   ]
  },
  {
   "cell_type": "code",
   "execution_count": 14,
   "metadata": {},
   "outputs": [
    {
     "data": {
      "text/latex": [
       "$\\displaystyle \\vec{\\mu}_1 = \\begin{bmatrix} -0.0709 \\\\ -0.6047 \\\\ \\end{bmatrix}$"
      ],
      "text/plain": [
       "<IPython.core.display.Math object>"
      ]
     },
     "metadata": {},
     "output_type": "display_data"
    },
    {
     "data": {
      "text/latex": [
       "$\\displaystyle \\vec{\\mu}_2 = \\begin{bmatrix} -0.0709 \\\\ -0.9110 \\\\ \\end{bmatrix}$"
      ],
      "text/plain": [
       "<IPython.core.display.Math object>"
      ]
     },
     "metadata": {},
     "output_type": "display_data"
    },
    {
     "data": {
      "text/latex": [
       "$\\displaystyle \\vec{\\mu}_3 = \\begin{bmatrix} -0.6047 \\\\ -0.9110 \\\\ \\end{bmatrix}$"
      ],
      "text/plain": [
       "<IPython.core.display.Math object>"
      ]
     },
     "metadata": {},
     "output_type": "display_data"
    }
   ],
   "source": [
    "answer(r\"\\vec{\\mu}_1\", b_mu1)\n",
    "answer(r\"\\vec{\\mu}_2\", b_mu2)\n",
    "answer(r\"\\vec{\\mu}_3\", b_mu3)"
   ]
  },
  {
   "cell_type": "code",
   "execution_count": 15,
   "metadata": {},
   "outputs": [],
   "source": [
    "def b_covariance(samples, mu):\n",
    "    cov = np.zeros((len(mu), len(mu)))\n",
    "    for x in samples:\n",
    "        diff = x - mu\n",
    "        cov += diff[:, None] @ diff.T[None, :]\n",
    "    cov /= len(samples) - 1\n",
    "    return cov"
   ]
  },
  {
   "cell_type": "code",
   "execution_count": 16,
   "metadata": {},
   "outputs": [],
   "source": [
    "b_cov1 = b_covariance(b_samples1, b_mu1)\n",
    "b_cov2 = b_covariance(b_samples2, b_mu2)\n",
    "b_cov3 = b_covariance(b_samples3, b_mu3)"
   ]
  },
  {
   "cell_type": "code",
   "execution_count": 17,
   "metadata": {},
   "outputs": [],
   "source": [
    "# np.cov(samples1.T, ddof=1)"
   ]
  },
  {
   "cell_type": "code",
   "execution_count": 18,
   "metadata": {},
   "outputs": [
    {
     "data": {
      "text/latex": [
       "$\\displaystyle \\Sigma_1 = \\begin{bmatrix} 1.0069 & 0.6309 \\\\ 0.6309 & 4.6675 \\\\ \\end{bmatrix}$"
      ],
      "text/plain": [
       "<IPython.core.display.Math object>"
      ]
     },
     "metadata": {},
     "output_type": "display_data"
    },
    {
     "data": {
      "text/latex": [
       "$\\displaystyle \\Sigma_2 = \\begin{bmatrix} 1.0069 & 0.4379 \\\\ 0.4379 & 5.0466 \\\\ \\end{bmatrix}$"
      ],
      "text/plain": [
       "<IPython.core.display.Math object>"
      ]
     },
     "metadata": {},
     "output_type": "display_data"
    },
    {
     "data": {
      "text/latex": [
       "$\\displaystyle \\Sigma_3 = \\begin{bmatrix} 4.6675 & 0.8152 \\\\ 0.8152 & 5.0466 \\\\ \\end{bmatrix}$"
      ],
      "text/plain": [
       "<IPython.core.display.Math object>"
      ]
     },
     "metadata": {},
     "output_type": "display_data"
    }
   ],
   "source": [
    "answer(\"\\Sigma_1\", b_cov1)\n",
    "answer(\"\\Sigma_2\", b_cov2)\n",
    "answer(\"\\Sigma_3\", b_cov3)"
   ]
  },
  {
   "cell_type": "markdown",
   "metadata": {},
   "source": [
    "## (c)"
   ]
  },
  {
   "cell_type": "markdown",
   "metadata": {},
   "source": [
    "Modify your program to apply to three-dimensional Gaussian data. Apply your program to the full three-dimensional data for $\\omega_1$."
   ]
  },
  {
   "cell_type": "code",
   "execution_count": 19,
   "metadata": {},
   "outputs": [],
   "source": [
    "c_samples = class1_samples"
   ]
  },
  {
   "cell_type": "markdown",
   "metadata": {},
   "source": [
    "We can use the function in sub-question (b)."
   ]
  },
  {
   "cell_type": "code",
   "execution_count": 20,
   "metadata": {},
   "outputs": [],
   "source": [
    "# np.cov(c_samples.T, ddof=1)"
   ]
  },
  {
   "cell_type": "code",
   "execution_count": 21,
   "metadata": {},
   "outputs": [],
   "source": [
    "c_mu = b_mean(c_samples)"
   ]
  },
  {
   "cell_type": "code",
   "execution_count": 22,
   "metadata": {},
   "outputs": [
    {
     "data": {
      "text/latex": [
       "$\\displaystyle \\vec{\\mu} = \\begin{bmatrix} -0.0709 \\\\ -0.6047 \\\\ -0.9110 \\\\ \\end{bmatrix}$"
      ],
      "text/plain": [
       "<IPython.core.display.Math object>"
      ]
     },
     "metadata": {},
     "output_type": "display_data"
    }
   ],
   "source": [
    "answer(r\"\\vec{\\mu}\", c_mu)"
   ]
  },
  {
   "cell_type": "code",
   "execution_count": 23,
   "metadata": {},
   "outputs": [],
   "source": [
    "c_cov = b_covariance(c_samples, c_mu)"
   ]
  },
  {
   "cell_type": "code",
   "execution_count": 24,
   "metadata": {},
   "outputs": [
    {
     "data": {
      "text/latex": [
       "$\\displaystyle \\Sigma = \\begin{bmatrix} 1.0069 & 0.6309 & 0.4379 \\\\ 0.6309 & 4.6675 & 0.8152 \\\\ 0.4379 & 0.8152 & 5.0466 \\\\ \\end{bmatrix}$"
      ],
      "text/plain": [
       "<IPython.core.display.Math object>"
      ]
     },
     "metadata": {},
     "output_type": "display_data"
    }
   ],
   "source": [
    "answer(\"\\Sigma\", c_cov)"
   ]
  },
  {
   "cell_type": "markdown",
   "metadata": {},
   "source": [
    "## (d)"
   ]
  },
  {
   "cell_type": "markdown",
   "metadata": {},
   "source": [
    "Assume your three-dimensional model is separable, so that\n",
    "$$ \\mathbf{\\Sigma} = diag(\\sigma_1^2, \\sigma_2^2, \\sigma_3^2). $$\n",
    "Write a program to estimate the mean and the diagonal components of $\\mathbf{\\Sigma}$. Apply your program to the data in $\\omega_2$."
   ]
  },
  {
   "cell_type": "code",
   "execution_count": 25,
   "metadata": {},
   "outputs": [],
   "source": [
    "d_samples1 = class2_samples[:, 0]\n",
    "d_samples2 = class2_samples[:, 1]\n",
    "d_samples3 = class2_samples[:, 2]"
   ]
  },
  {
   "cell_type": "code",
   "execution_count": 26,
   "metadata": {},
   "outputs": [],
   "source": [
    "d_mu1 = mean(d_samples1)\n",
    "d_mu2 = mean(d_samples2)\n",
    "d_mu3 = mean(d_samples3)"
   ]
  },
  {
   "cell_type": "code",
   "execution_count": 27,
   "metadata": {},
   "outputs": [
    {
     "data": {
      "text/latex": [
       "$\\displaystyle \\mu_1 = -0.1126$"
      ],
      "text/plain": [
       "<IPython.core.display.Math object>"
      ]
     },
     "metadata": {},
     "output_type": "display_data"
    },
    {
     "data": {
      "text/latex": [
       "$\\displaystyle \\mu_2 = 0.4299$"
      ],
      "text/plain": [
       "<IPython.core.display.Math object>"
      ]
     },
     "metadata": {},
     "output_type": "display_data"
    },
    {
     "data": {
      "text/latex": [
       "$\\displaystyle \\mu_3 = 0.0037$"
      ],
      "text/plain": [
       "<IPython.core.display.Math object>"
      ]
     },
     "metadata": {},
     "output_type": "display_data"
    }
   ],
   "source": [
    "answer(\"\\mu_1\", d_mu1)\n",
    "answer(\"\\mu_2\", d_mu2)\n",
    "answer(\"\\mu_3\", d_mu3)"
   ]
  },
  {
   "cell_type": "code",
   "execution_count": 28,
   "metadata": {},
   "outputs": [],
   "source": [
    "d_var1 = variance(d_samples1, d_mu1)\n",
    "d_var2 = variance(d_samples2, d_mu2)\n",
    "d_var3 = variance(d_samples3, d_mu3)"
   ]
  },
  {
   "cell_type": "code",
   "execution_count": 29,
   "metadata": {},
   "outputs": [
    {
     "data": {
      "text/latex": [
       "$\\displaystyle \\sigma_1^2 = 0.0599$"
      ],
      "text/plain": [
       "<IPython.core.display.Math object>"
      ]
     },
     "metadata": {},
     "output_type": "display_data"
    },
    {
     "data": {
      "text/latex": [
       "$\\displaystyle \\sigma_2^2 = 0.0511$"
      ],
      "text/plain": [
       "<IPython.core.display.Math object>"
      ]
     },
     "metadata": {},
     "output_type": "display_data"
    },
    {
     "data": {
      "text/latex": [
       "$\\displaystyle \\sigma_3^2 = 0.0081$"
      ],
      "text/plain": [
       "<IPython.core.display.Math object>"
      ]
     },
     "metadata": {},
     "output_type": "display_data"
    }
   ],
   "source": [
    "answer(\"\\sigma_1^2\", d_var1)\n",
    "answer(\"\\sigma_2^2\", d_var2)\n",
    "answer(\"\\sigma_3^2\", d_var3)"
   ]
  },
  {
   "cell_type": "code",
   "execution_count": 30,
   "metadata": {},
   "outputs": [],
   "source": [
    "d_cov = np.identity(3) * np.array([d_var1, d_var2, d_var3])"
   ]
  },
  {
   "cell_type": "code",
   "execution_count": 31,
   "metadata": {},
   "outputs": [
    {
     "data": {
      "text/latex": [
       "$\\displaystyle \\Sigma = \\begin{bmatrix} 0.0599 & 0.     & 0.     \\\\ 0.     & 0.0511 & 0.     \\\\ 0.     & 0.     & 0.0081 \\\\ \\end{bmatrix}$"
      ],
      "text/plain": [
       "<IPython.core.display.Math object>"
      ]
     },
     "metadata": {},
     "output_type": "display_data"
    }
   ],
   "source": [
    "answer(\"\\Sigma\", d_cov)"
   ]
  },
  {
   "cell_type": "markdown",
   "metadata": {},
   "source": [
    "## (e) Compare your results for the mean of each feature $\\mu_i$ calculated in the above ways. Explain why they are the same or different."
   ]
  },
  {
   "cell_type": "markdown",
   "metadata": {},
   "source": [
    "Since we calculate a mean for each dimension, it can be combined to form a higher dimensional mean.\n",
    "\n",
    "Questions a, b, and c are about $\\omega_1$. We can structure the mean as follows:\n",
    "\n",
    "**Question a) 1-d feature**\n",
    "\n",
    "$$ \\mu_1^{(1)} = −0.0709 $$\n",
    "\n",
    "$$ \\mu_2^{(1)} = −0.6047 $$\n",
    "\n",
    "$$ \\mu_3^{(1)} = −0.9110 $$\n",
    "\n",
    "\n",
    "**Question b) 2-d feature**\n",
    "\n",
    "$$\n",
    "\\vec{\\mu}_1^{(2)} = \n",
    "\\begin{bmatrix}\n",
    "\\mu_1^{(1)}\\\\\n",
    "\\mu_2^{(1)}\n",
    "\\end{bmatrix}\n",
    "=\n",
    "\\begin{bmatrix}\n",
    "−0.0709\\\\\n",
    "−0.6047\n",
    "\\end{bmatrix}\n",
    "$$\n",
    "\n",
    "\n",
    "$$ \\vec{\\mu}_2^{(2)} = \n",
    "\\begin{bmatrix}\n",
    "\\mu_1^{(1)}\\\\\n",
    "\\mu_3^{(1)}\n",
    "\\end{bmatrix}\n",
    "=\n",
    "\\begin{bmatrix}\n",
    "−0.0709\\\\\n",
    "−0.9110\n",
    "\\end{bmatrix}\n",
    "$$\n",
    "\n",
    "$$ \\vec{\\mu}_3^{(2)} = \n",
    "\\begin{bmatrix}\n",
    "\\mu_2^{(1)}\\\\\n",
    "\\mu_3^{(1)}\n",
    "\\end{bmatrix}\n",
    "=\n",
    "\\begin{bmatrix}\n",
    "−0.6047\\\\\n",
    "−0.9110\n",
    "\\end{bmatrix}\n",
    "$$\n",
    "\n",
    "**Question c) 3-d feature**\n",
    "\n",
    "$$ \\vec{\\mu}^{(3)} = \n",
    "\\begin{bmatrix}\n",
    "\\mu_1^{(1)}\\\\\n",
    "\\mu_2^{(1)}\\\\\n",
    "\\mu_3^{(1)}\n",
    "\\end{bmatrix}\n",
    "=\n",
    "\\begin{bmatrix}\n",
    "−0.0709\\\\\n",
    "−0.6047\\\\\n",
    "−0.9110\n",
    "\\end{bmatrix}\n",
    "$$\n",
    "\n",
    "However, for **question d**, it is about $\\omega_2$, so, the mean value is different from question a, b, and c."
   ]
  },
  {
   "cell_type": "markdown",
   "metadata": {},
   "source": [
    "## (f) Compare your results for the variance of each feature $\\sigma_i^2$ calculated in the above ways. Explain way they are the same or different."
   ]
  },
  {
   "cell_type": "markdown",
   "metadata": {},
   "source": [
    "Just like the mean, 1-d variance can constitute higher-dimensional variance (covariance matrix). We can see the pattern as follows:\n",
    "\n",
    "**Question a) 1-d feature**\n",
    "\n",
    "$$ \\sigma_1^2 = 1.0069 $$\n",
    "\n",
    "$$ \\sigma_2^2 = 4.6675 $$\n",
    "\n",
    "$$ \\sigma_3^2 = 5.0466 $$\n",
    "\n",
    "**Question b) 2-d feature**\n",
    "\n",
    "$$ \\mathbf{\\Sigma_1} =\n",
    "\\begin{bmatrix}\n",
    "\\sigma_1^2 & \\sigma_{12}\\\\\n",
    "\\sigma_{21} & \\sigma_2^2\\\\\n",
    "\\end{bmatrix}\n",
    "=\n",
    "\\begin{bmatrix}\n",
    "1.0069 & 0.6309\\\\\n",
    "0.6309 & 4.6675\\\\\n",
    "\\end{bmatrix}\n",
    "$$\n",
    "\n",
    "$$ \\mathbf{\\Sigma_2} =\n",
    "\\begin{bmatrix}\n",
    "\\sigma_1^2 & \\sigma_{13}\\\\\n",
    "\\sigma_{31} & \\sigma_3^2\\\\\n",
    "\\end{bmatrix}\n",
    "=\n",
    "\\begin{bmatrix}\n",
    "1.0069 & 0.4379\\\\\n",
    "0.4379 & 5.0466\\\\\n",
    "\\end{bmatrix}\n",
    "$$\n",
    "\n",
    "$$ \\mathbf{\\Sigma_3} =\n",
    "\\begin{bmatrix}\n",
    "\\sigma_2^2 & \\sigma_{23}\\\\\n",
    "\\sigma_{32} & \\sigma_3^2\\\\\n",
    "\\end{bmatrix}\n",
    "=\n",
    "\\begin{bmatrix}\n",
    "4.6675 & 0.8152\\\\\n",
    "0.8152 & 5.0466\\\\\n",
    "\\end{bmatrix}\n",
    "$$\n",
    "\n",
    "**Question c) 3-d feature**\n",
    "\n",
    "$$ \\mathbf{\\Sigma} =\n",
    "\\begin{bmatrix}\n",
    "\\sigma_1^2 & \\sigma_{12} & \\sigma_{13}\\\\\n",
    "\\sigma_{21} & \\sigma_2^2 & \\sigma_{23}\\\\\n",
    "\\sigma_{31} & \\sigma_{32} & \\sigma_3^2\\\\\n",
    "\\end{bmatrix}\n",
    "=\n",
    "\\begin{bmatrix}\n",
    "1.0069 & 0.6309 & 0.4379\\\\\n",
    "0.6309 & 4.6675 & 0.8152\\\\\n",
    "0.4379 & 0.8152 & 5.0466\\\\\n",
    "\\end{bmatrix}\n",
    "$$"
   ]
  },
  {
   "cell_type": "markdown",
   "metadata": {},
   "source": [
    "**Question d)**\n",
    "\n",
    "Since we use the data in $\\omega_2$ instead of $\\omega_1$, obviously, the variances are different from question a, b, and c.\n",
    "The covariance matrix $\\mathbf{\\Sigma}$ in **question d** is also a diagonal matrix that only contains the variances, not covariances."
   ]
  },
  {
   "cell_type": "markdown",
   "metadata": {},
   "source": [
    "# Question 2"
   ]
  },
  {
   "cell_type": "markdown",
   "metadata": {},
   "source": [
    "Consider a one-dimensional model of a triangular density governed by two scalar parameters:\n",
    "$$\n",
    "p(x|\\mathbf{\\theta}) \\equiv T(\\mu, \\delta) = \n",
    "\\begin{cases}\n",
    "  \\frac{\\delta - |x - \\mu|}{\\delta^2} & \\text{for $|x - \\mu| < \\delta$} \\\\\n",
    "  0 & \\text{otherwise,}\n",
    "\\end{cases}\n",
    "$$\n",
    "where $\\mathbf{\\theta} =\n",
    "\\begin{pmatrix}\n",
    "  \\mu \\\\ \n",
    "  \\delta\n",
    "\\end{pmatrix} $.\n",
    "Write a program to calculate the density $p(x|\\mathcal{D})$ via Bayesian methods (Eq. 25) and apply it to the $x_2$ feature of category $\\omega_2$. Assume your priors on the parameters are uniform throughout the range of the data. Plot your resulting posterior density $p(x|\\mathcal{D})$."
   ]
  },
  {
   "cell_type": "markdown",
   "metadata": {},
   "source": [
    "<hr>\n",
    "I will show two different methods to tackle this question 2.\n",
    "\n",
    "1. Estimating one parameter at a time, and then using the estimated parameters to compute the desired class-conditional density $p(x|D)$\n",
    "2. Deriving a close form of the desired class-conditional density $p(x|D)$ with double integrals\n",
    "\n",
    "<hr>"
   ]
  },
  {
   "cell_type": "markdown",
   "metadata": {},
   "source": [
    "### Get the feature $x_2$ from $\\omega_2$"
   ]
  },
  {
   "cell_type": "code",
   "execution_count": 32,
   "metadata": {},
   "outputs": [
    {
     "data": {
      "text/plain": [
       "array([0.58 , 0.27 , 0.055, 0.53 , 0.47 , 0.69 , 0.55 , 0.61 , 0.49 ,\n",
       "       0.054])"
      ]
     },
     "execution_count": 32,
     "metadata": {},
     "output_type": "execute_result"
    }
   ],
   "source": [
    "D = class2_samples[:, 1]\n",
    "D"
   ]
  },
  {
   "cell_type": "markdown",
   "metadata": {},
   "source": [
    "## [METHOD 1]"
   ]
  },
  {
   "cell_type": "markdown",
   "metadata": {},
   "source": [
    "## Triangular Density"
   ]
  },
  {
   "cell_type": "code",
   "execution_count": 33,
   "metadata": {},
   "outputs": [],
   "source": [
    "def likelihood_dist(x, mu, delta):\n",
    "    if np.abs(x - mu) < delta:\n",
    "        return (delta - np.abs(x - mu)) / (delta ** 2)\n",
    "    return 0"
   ]
  },
  {
   "cell_type": "markdown",
   "metadata": {},
   "source": [
    "### Try plotting a triangular density"
   ]
  },
  {
   "cell_type": "code",
   "execution_count": 34,
   "metadata": {},
   "outputs": [
    {
     "data": {
      "image/png": "[encoded data removed]",
      "text/plain": [
       "<Figure size 432x288 with 1 Axes>"
      ]
     },
     "metadata": {
      "needs_background": "light"
     },
     "output_type": "display_data"
    }
   ],
   "source": [
    "fig, ax = plt.subplots()\n",
    "X = np.arange(-5, 5, 0.01)\n",
    "Y = [likelihood_dist(x, 0, 2) for x in X]\n",
    "ax.plot(X, Y, linewidth=4)\n",
    "ax.set_xlabel(\"$x$\")\n",
    "ax.set_ylabel(r\"$p(x|\\theta)$\")\n",
    "plt.show()"
   ]
  },
  {
   "cell_type": "markdown",
   "metadata": {},
   "source": [
    "## Uniform Distribution"
   ]
  },
  {
   "cell_type": "code",
   "execution_count": 35,
   "metadata": {},
   "outputs": [],
   "source": [
    "def prior_dist(x, a, b):\n",
    "    if a <= x and x <= b:\n",
    "        return 1. / (b - a)\n",
    "    return 0"
   ]
  },
  {
   "cell_type": "markdown",
   "metadata": {},
   "source": [
    "### Try plotting a uniform distribution"
   ]
  },
  {
   "cell_type": "code",
   "execution_count": 36,
   "metadata": {},
   "outputs": [
    {
     "data": {
      "image/png": "[encoded data removed]",
      "text/plain": [
       "<Figure size 432x288 with 1 Axes>"
      ]
     },
     "metadata": {
      "needs_background": "light"
     },
     "output_type": "display_data"
    }
   ],
   "source": [
    "fig, ax = plt.subplots()\n",
    "X = np.arange(-0.5, 1.5, 0.01)\n",
    "Y = [prior_dist(x, 0, 1) for x in X]\n",
    "Y /= np.sum(Y)\n",
    "ax.plot(X, Y, linewidth=4)\n",
    "ax.set_xlabel(r\"$\\theta$\")\n",
    "ax.set_ylabel(r\"$p(\\theta)$\")\n",
    "plt.show()"
   ]
  },
  {
   "cell_type": "markdown",
   "metadata": {},
   "source": [
    "## Bayesian estimation (BE)\n",
    "Unlike maximum likelihood approach that considers $\\theta$ to be fixed, Bayesian estimation treats $\\theta$ as a random variable. So, we need to find a distribution of the random variable—parameter distribution.\n",
    "\n",
    "We assume that the parametric form of the density $p(x|\\mathbf{\\theta})$ is known. In this case, $p(x|\\mathbf{\\theta})$ is a triangular density function. But we want to find the value of the parameter vector $\\mathbf{\\theta}$.\n"
   ]
  },
  {
   "cell_type": "markdown",
   "metadata": {},
   "source": [
    "We can compute $p(x|D)$ from $p(x|\\theta)$ and $P(\\theta|D)$ as given by:\n",
    "\n",
    "$$\\begin{align}\n",
    "p(x|D) &= \\int p(x, \\theta | D) \\,d\\theta\\\\\n",
    "&= \\int p(x | \\theta, D) p(\\theta | D) \\,d\\theta\\\\\n",
    "&= \\int p(x | \\theta) p(\\theta | D) \\,d\\theta\\\\\n",
    "\\end{align}$$"
   ]
  },
  {
   "cell_type": "markdown",
   "metadata": {},
   "source": [
    "$p(\\theta | D)$ is estimated by using Bayes formula.\n",
    "\n",
    "$$\\begin{align}\n",
    "p(\\theta|D) &= \\frac{p(D|\\theta)p(\\theta)}{p(D)}\\\\\n",
    "% &= \\alpha \\cdot p(D|\\theta)p(\\theta)\\\\\n",
    "\\end{align}$$"
   ]
  },
  {
   "cell_type": "markdown",
   "metadata": {},
   "source": [
    "Training data set $D = \\{x_1, \\dots, x_n\\}$ has $n$ samples. All samples are *i.i.d.* (independent identically distributed random variables). Thus, we can compute $p(D|\\theta)$ as follows:\n",
    "\n",
    "$$\\begin{align}\n",
    "p(D|\\theta) &= \\prod_{k=1}^{n} p(x_k|\\theta)\\\\\n",
    "\\end{align}$$"
   ]
  },
  {
   "cell_type": "markdown",
   "metadata": {},
   "source": [
    "We substitute $p(D|\\theta)$ back to the $p(\\theta|D)$, we get:\n",
    "\n",
    "$$\\begin{align}\n",
    "% p(\\theta|D) &= \\alpha \\cdot p(D|\\theta)p(\\theta)\\\\\n",
    "p(\\theta|D) &= \\frac{p(D|\\theta)p(\\theta)}{p(D)}\\\\\n",
    "p(\\theta|D) &= \\frac{\\prod_{k=1}^{n} p(x_k|\\theta)p(\\theta)}{p(D)}\\\\\n",
    "% &= \\alpha \\cdot \\prod_{k=1}^{n} p(x_k|\\theta)p(\\theta)\\\\\n",
    "\\end{align}$$"
   ]
  },
  {
   "cell_type": "markdown",
   "metadata": {},
   "source": [
    "where\n",
    "\n",
    "$$\\begin{align}\n",
    "p(D) &= \\int p(D|\\theta)p(\\theta)\\,dx\\\\\n",
    "\\end{align}$$"
   ]
  },
  {
   "cell_type": "markdown",
   "metadata": {},
   "source": [
    "The prior density $p(\\theta)$ is given by the question to be an **uniform distribution** over the range of the data. This means the prior is **uninformative**.\n",
    "\n",
    "$$\\begin{align}\n",
    "p(\\theta) &= \\mathcal{U}(0.054, 0.69)\n",
    "=\\begin{cases}\n",
    "  \\frac{1}{0.69-0.054} & \\text{for $0.054 \\leq \\theta \\leq 0.69$} \\\\\n",
    "  0 & \\text{otherwise,}\n",
    "\\end{cases}\n",
    "\\\\\n",
    "\\end{align}$$"
   ]
  },
  {
   "cell_type": "markdown",
   "metadata": {},
   "source": [
    "We also know $p(x|\\theta)$ as it is provided by the question."
   ]
  },
  {
   "cell_type": "markdown",
   "metadata": {},
   "source": [
    "The range of the input data is as follows:"
   ]
  },
  {
   "cell_type": "code",
   "execution_count": 37,
   "metadata": {},
   "outputs": [
    {
     "data": {
      "text/plain": [
       "(0.054, 0.69)"
      ]
     },
     "execution_count": 37,
     "metadata": {},
     "output_type": "execute_result"
    }
   ],
   "source": [
    "D.min(), D.max()"
   ]
  },
  {
   "cell_type": "markdown",
   "metadata": {
    "tags": []
   },
   "source": [
    "## 1) Estimate $\\mu$ by fixing $\\delta = 2$\n",
    "\n",
    "So, our $\\theta$ is just $\\mu$. Assume that the width of the likelihood (triangular) density is 2."
   ]
  },
  {
   "cell_type": "code",
   "execution_count": 38,
   "metadata": {},
   "outputs": [],
   "source": [
    "initial_delta = 2"
   ]
  },
  {
   "cell_type": "markdown",
   "metadata": {},
   "source": [
    "### A Priori Density $p(\\theta) = p(\\mu)$"
   ]
  },
  {
   "cell_type": "code",
   "execution_count": 39,
   "metadata": {},
   "outputs": [],
   "source": [
    "mu = np.arange(0, 1.001, 0.001)"
   ]
  },
  {
   "cell_type": "markdown",
   "metadata": {},
   "source": [
    "Since, we are using uninformative prior (uniform) throughout the range of the data."
   ]
  },
  {
   "cell_type": "code",
   "execution_count": 40,
   "metadata": {},
   "outputs": [],
   "source": [
    "U_a = D.min()\n",
    "U_b = D.max()"
   ]
  },
  {
   "cell_type": "code",
   "execution_count": 41,
   "metadata": {},
   "outputs": [],
   "source": [
    "pTheta = [prior_dist(m, U_a, U_b) for m in mu]\n",
    "pTheta /= np.sum(pTheta)"
   ]
  },
  {
   "cell_type": "code",
   "execution_count": 42,
   "metadata": {},
   "outputs": [
    {
     "data": {
      "image/png": "[encoded data removed]",
      "text/plain": [
       "<Figure size 432x288 with 1 Axes>"
      ]
     },
     "metadata": {
      "needs_background": "light"
     },
     "output_type": "display_data"
    }
   ],
   "source": [
    "fig, ax = plt.subplots()\n",
    "X = mu\n",
    "Y = pTheta\n",
    "ax.plot(X, Y, linewidth=4)\n",
    "ax.set_xlabel(r\"$\\theta$\")\n",
    "ax.set_ylabel(r\"$p(\\theta)$\")\n",
    "plt.show()"
   ]
  },
  {
   "cell_type": "markdown",
   "metadata": {},
   "source": [
    "Check the a priori density $p(\\theta)$ sum to $1$."
   ]
  },
  {
   "cell_type": "code",
   "execution_count": 43,
   "metadata": {},
   "outputs": [
    {
     "data": {
      "text/plain": [
       "0.9999999999999996"
      ]
     },
     "execution_count": 43,
     "metadata": {},
     "output_type": "execute_result"
    }
   ],
   "source": [
    "np.sum(pTheta)"
   ]
  },
  {
   "cell_type": "markdown",
   "metadata": {},
   "source": [
    "### Compute $p(\\theta|D) = p(\\mu|D)$"
   ]
  },
  {
   "cell_type": "code",
   "execution_count": 44,
   "metadata": {},
   "outputs": [],
   "source": [
    "posteriors = []\n",
    "for m, p_theta in zip(mu, pTheta):\n",
    "    p_theta_D_posterior = 1\n",
    "    for x in D:\n",
    "        p_theta_D_posterior *= likelihood_dist(x, m, initial_delta)\n",
    "    p_theta_D_posterior *= p_theta\n",
    "    posteriors.append(p_theta_D_posterior)\n",
    "\n",
    "posteriors = np.array(posteriors) / np.sum(posteriors)"
   ]
  },
  {
   "cell_type": "markdown",
   "metadata": {},
   "source": [
    "Check the posterior density $p(\\theta|D)$ sum to $1$."
   ]
  },
  {
   "cell_type": "code",
   "execution_count": 45,
   "metadata": {},
   "outputs": [
    {
     "data": {
      "text/plain": [
       "1.0000000000000002"
      ]
     },
     "execution_count": 45,
     "metadata": {},
     "output_type": "execute_result"
    }
   ],
   "source": [
    "np.sum(posteriors)"
   ]
  },
  {
   "cell_type": "code",
   "execution_count": 46,
   "metadata": {},
   "outputs": [
    {
     "data": {
      "image/png": "[encoded data removed]",
      "text/plain": [
       "<Figure size 720x432 with 1 Axes>"
      ]
     },
     "metadata": {
      "needs_background": "light"
     },
     "output_type": "display_data"
    }
   ],
   "source": [
    "fig, ax = plt.subplots(figsize=(10, 6))\n",
    "ax.plot(mu, posteriors, linewidth=4)\n",
    "ax.set_xlabel(r\"$\\theta$\", size=14)\n",
    "ax.set_ylabel(r\"$p(\\theta|D) = p(\\mu|D)$\", size=14)\n",
    "plt.show()"
   ]
  },
  {
   "cell_type": "markdown",
   "metadata": {},
   "source": [
    "## Posterior density $p(x|D)$ after estimating $\\mu$"
   ]
  },
  {
   "cell_type": "code",
   "execution_count": 47,
   "metadata": {},
   "outputs": [],
   "source": [
    "X = np.arange(-3, 3.5, 0.001)\n",
    "Y = []\n",
    "\n",
    "for x in X:\n",
    "    p_x_D = 0\n",
    "    for m, p in zip(mu, posteriors):\n",
    "        p_x_D += likelihood_dist(x, m, initial_delta) * p\n",
    "    Y.append(p_x_D)\n",
    "\n",
    "Y /= np.sum(Y)"
   ]
  },
  {
   "cell_type": "markdown",
   "metadata": {},
   "source": [
    "Below is the plot of $p(x|D)$ with the estimated$\\hat{\\mu}$ but the fixed $\\delta$."
   ]
  },
  {
   "cell_type": "code",
   "execution_count": 48,
   "metadata": {},
   "outputs": [
    {
     "data": {
      "image/png": "[encoded data removed]",
      "text/plain": [
       "<Figure size 720x432 with 1 Axes>"
      ]
     },
     "metadata": {
      "needs_background": "light"
     },
     "output_type": "display_data"
    }
   ],
   "source": [
    "fig, ax = plt.subplots(figsize=(10, 6))\n",
    "ax.plot(X, Y, linewidth=4)\n",
    "ax.set_xlabel(r\"$x$\", size=14)\n",
    "ax.set_ylabel(r\"$p(x|D)$\", size=14)\n",
    "plt.show()"
   ]
  },
  {
   "cell_type": "markdown",
   "metadata": {},
   "source": [
    "Check thedesired class-conditional density $p(x|D)$ sum to $1$."
   ]
  },
  {
   "cell_type": "code",
   "execution_count": 49,
   "metadata": {},
   "outputs": [
    {
     "data": {
      "text/plain": [
       "0.9999999999999999"
      ]
     },
     "execution_count": 49,
     "metadata": {},
     "output_type": "execute_result"
    }
   ],
   "source": [
    "np.sum(Y)"
   ]
  },
  {
   "cell_type": "markdown",
   "metadata": {},
   "source": [
    "We can also verify that the peak of $p(x|D)$ should be around the mean."
   ]
  },
  {
   "cell_type": "code",
   "execution_count": 50,
   "metadata": {},
   "outputs": [
    {
     "data": {
      "text/plain": [
       "'Mean of [0.58  0.27  0.055 0.53  0.47  0.69  0.55  0.61  0.49  0.054] = 0.4299'"
      ]
     },
     "execution_count": 50,
     "metadata": {},
     "output_type": "execute_result"
    }
   ],
   "source": [
    "f\"Mean of {D} = {np.mean(D):.4f}\""
   ]
  },
  {
   "cell_type": "markdown",
   "metadata": {},
   "source": [
    "The maximum $p(x|D)$ is at $x = 0.4670$ which is close to $0.4299$."
   ]
  },
  {
   "cell_type": "code",
   "execution_count": 51,
   "metadata": {},
   "outputs": [
    {
     "data": {
      "text/plain": [
       "'Peak at x = 0.4330'"
      ]
     },
     "execution_count": 51,
     "metadata": {},
     "output_type": "execute_result"
    }
   ],
   "source": [
    "f\"Peak at x = {X[np.argmax(Y)]:.4f}\""
   ]
  },
  {
   "cell_type": "markdown",
   "metadata": {},
   "source": [
    "## 2) Estimate $\\delta$ by fixing $\\mu$\n",
    "\n",
    "So, our $\\theta$ is $\\delta$ now. Assume that the center of the likelihhod (triangular) density $\\mu = 0.49$ based on the **maximum** posterior density $p(\\mu|D)$.\n"
   ]
  },
  {
   "cell_type": "code",
   "execution_count": 52,
   "metadata": {},
   "outputs": [
    {
     "data": {
      "text/latex": [
       "$\\displaystyle \\hat{\\mu} = 0.4900$"
      ],
      "text/plain": [
       "<IPython.core.display.Math object>"
      ]
     },
     "metadata": {},
     "output_type": "display_data"
    }
   ],
   "source": [
    "mu_hat = mu[np.argmax(posteriors)]\n",
    "answer(\"\\hat{\\mu}\", mu_hat)"
   ]
  },
  {
   "cell_type": "markdown",
   "metadata": {},
   "source": [
    "### A Priori Density $p(\\theta) = p(\\delta)$"
   ]
  },
  {
   "cell_type": "code",
   "execution_count": 53,
   "metadata": {},
   "outputs": [],
   "source": [
    "delta = np.arange(-0.3, 1.001, 0.001)"
   ]
  },
  {
   "cell_type": "code",
   "execution_count": 54,
   "metadata": {},
   "outputs": [],
   "source": [
    "U_a = 0\n",
    "U_b = D.max() - D.min()"
   ]
  },
  {
   "cell_type": "code",
   "execution_count": 55,
   "metadata": {},
   "outputs": [],
   "source": [
    "pTheta = [prior_dist(d, U_a, U_b) for d in delta]\n",
    "pTheta /= np.sum(pTheta)"
   ]
  },
  {
   "cell_type": "code",
   "execution_count": 56,
   "metadata": {},
   "outputs": [
    {
     "data": {
      "image/png": "[encoded data removed]",
      "text/plain": [
       "<Figure size 432x288 with 1 Axes>"
      ]
     },
     "metadata": {
      "needs_background": "light"
     },
     "output_type": "display_data"
    }
   ],
   "source": [
    "fig, ax = plt.subplots()\n",
    "X = delta\n",
    "Y = pTheta\n",
    "ax.plot(X, Y, linewidth=4)\n",
    "ax.set_xlabel(r\"$\\theta$\")\n",
    "ax.set_ylabel(r\"$p(\\theta)$\")\n",
    "plt.show()"
   ]
  },
  {
   "cell_type": "markdown",
   "metadata": {},
   "source": [
    "Check the a priori density $p(\\theta)$ sum to $1$."
   ]
  },
  {
   "cell_type": "code",
   "execution_count": 57,
   "metadata": {},
   "outputs": [
    {
     "data": {
      "text/plain": [
       "1.0"
      ]
     },
     "execution_count": 57,
     "metadata": {},
     "output_type": "execute_result"
    }
   ],
   "source": [
    "np.sum(pTheta)"
   ]
  },
  {
   "cell_type": "markdown",
   "metadata": {},
   "source": [
    "### Compute $p(\\theta|D) = p(\\delta|D)$"
   ]
  },
  {
   "cell_type": "code",
   "execution_count": 58,
   "metadata": {},
   "outputs": [],
   "source": [
    "posteriors = []\n",
    "for d, p_theta in zip(delta, pTheta):\n",
    "    p_theta_D_posterior = 1\n",
    "    for x in D:\n",
    "        p_theta_D_posterior *= likelihood_dist(x, mu_hat, d)\n",
    "    p_theta_D_posterior *= p_theta\n",
    "    posteriors.append(p_theta_D_posterior)\n",
    "\n",
    "posteriors = np.array(posteriors) / np.sum(posteriors)"
   ]
  },
  {
   "cell_type": "markdown",
   "metadata": {},
   "source": [
    "Check the posterior density $p(\\theta|D)$ sum to $1$."
   ]
  },
  {
   "cell_type": "code",
   "execution_count": 59,
   "metadata": {},
   "outputs": [
    {
     "data": {
      "text/plain": [
       "1.0"
      ]
     },
     "execution_count": 59,
     "metadata": {},
     "output_type": "execute_result"
    }
   ],
   "source": [
    "np.sum(posteriors)"
   ]
  },
  {
   "cell_type": "code",
   "execution_count": 60,
   "metadata": {},
   "outputs": [
    {
     "data": {
      "image/png": "[encoded data removed]",
      "text/plain": [
       "<Figure size 720x432 with 1 Axes>"
      ]
     },
     "metadata": {
      "needs_background": "light"
     },
     "output_type": "display_data"
    }
   ],
   "source": [
    "fig, ax = plt.subplots(figsize=(10, 6))\n",
    "ax.plot(delta, posteriors, linewidth=4)\n",
    "ax.set_xlabel(r\"$\\delta$\", size=14)\n",
    "ax.set_ylabel(r\"$p(\\theta|D) = p(\\delta|D)$\", size=14)\n",
    "plt.show()"
   ]
  },
  {
   "cell_type": "code",
   "execution_count": 61,
   "metadata": {},
   "outputs": [
    {
     "data": {
      "text/latex": [
       "$\\displaystyle \\hat{\\delta} = 0.5440$"
      ],
      "text/plain": [
       "<IPython.core.display.Math object>"
      ]
     },
     "metadata": {},
     "output_type": "display_data"
    }
   ],
   "source": [
    "delta_hat = delta[np.argmax(posteriors)]\n",
    "answer(\"\\hat{\\delta}\", delta_hat)"
   ]
  },
  {
   "cell_type": "markdown",
   "metadata": {},
   "source": [
    "## Posterior density $p(x|D)$ after estimating $\\delta$"
   ]
  },
  {
   "cell_type": "code",
   "execution_count": 62,
   "metadata": {},
   "outputs": [],
   "source": [
    "X = np.arange(-1.5, 2.5, 0.001)\n",
    "Y = []\n",
    "\n",
    "for x in X:\n",
    "    p_x_D = 0\n",
    "    for d, p in zip(delta, posteriors):\n",
    "        p_x_D += likelihood_dist(x, mu_hat, d) * p\n",
    "    Y.append(p_x_D)\n",
    "\n",
    "Y /= np.sum(Y)"
   ]
  },
  {
   "cell_type": "code",
   "execution_count": 63,
   "metadata": {},
   "outputs": [
    {
     "data": {
      "image/png": "[encoded data removed]",
      "text/plain": [
       "<Figure size 720x432 with 1 Axes>"
      ]
     },
     "metadata": {
      "needs_background": "light"
     },
     "output_type": "display_data"
    }
   ],
   "source": [
    "fig, ax = plt.subplots(figsize=(10, 6))\n",
    "ax.plot(X, Y, linewidth=4)\n",
    "ax.set_xlabel(r\"$x$\", size=14)\n",
    "ax.set_ylabel(r\"$p(x|D)$\", size=14)\n",
    "plt.show()"
   ]
  },
  {
   "cell_type": "markdown",
   "metadata": {},
   "source": [
    "Check the desired class-conditional density $p(x|D)$ sum to $1$."
   ]
  },
  {
   "cell_type": "code",
   "execution_count": 64,
   "metadata": {},
   "outputs": [
    {
     "data": {
      "text/plain": [
       "0.9999999999999998"
      ]
     },
     "execution_count": 64,
     "metadata": {},
     "output_type": "execute_result"
    }
   ],
   "source": [
    "np.sum(Y)"
   ]
  },
  {
   "cell_type": "markdown",
   "metadata": {},
   "source": [
    "## The estimated parameters"
   ]
  },
  {
   "cell_type": "code",
   "execution_count": 65,
   "metadata": {},
   "outputs": [
    {
     "data": {
      "text/latex": [
       "$\\displaystyle \\hat{\\mu} = 0.4900$"
      ],
      "text/plain": [
       "<IPython.core.display.Math object>"
      ]
     },
     "metadata": {},
     "output_type": "display_data"
    },
    {
     "data": {
      "text/latex": [
       "$\\displaystyle \\hat{\\delta} = 0.5440$"
      ],
      "text/plain": [
       "<IPython.core.display.Math object>"
      ]
     },
     "metadata": {},
     "output_type": "display_data"
    }
   ],
   "source": [
    "answer(\"\\hat{\\mu}\", mu_hat)\n",
    "answer(\"\\hat{\\delta}\", delta_hat)"
   ]
  },
  {
   "cell_type": "markdown",
   "metadata": {},
   "source": [
    "We can also get the estimated parameter vector:"
   ]
  },
  {
   "cell_type": "markdown",
   "metadata": {},
   "source": [
    "$$\n",
    "\\begin{align}\n",
    "\\vec{\\theta} &=\n",
    "\\begin{pmatrix}\n",
    "\\hat{\\mu}\\\\\n",
    "\\hat{\\delta}\n",
    "\\end{pmatrix}\n",
    "=\n",
    "\\begin{pmatrix}\n",
    "0.4900\\\\\n",
    "0.5440\n",
    "\\end{pmatrix}\n",
    "\\end{align}\n",
    "$$"
   ]
  },
  {
   "cell_type": "markdown",
   "metadata": {},
   "source": [
    "<hr>"
   ]
  },
  {
   "cell_type": "markdown",
   "metadata": {},
   "source": [
    "## [METHOD 2] Estimating two parameters at the same time"
   ]
  },
  {
   "cell_type": "markdown",
   "metadata": {},
   "source": [
    "We can compute $p(x|D)$ from $p(x|\\theta)$ and $P(\\theta|D)$ as given by:\n",
    "\n",
    "$$\\begin{align}\n",
    "p(x|D) &= \\int p(x, \\theta | D) \\,d\\theta\\\\\n",
    "&= \\int p(x | \\theta, D) p(\\theta | D) \\,d\\theta\\\\\n",
    "&= \\int p(x | \\theta) p(\\theta | D) \\,d\\theta\\\\\n",
    "\\end{align}$$"
   ]
  },
  {
   "cell_type": "markdown",
   "metadata": {},
   "source": [
    "Since the parameter vector $\\vec{\\theta}$ has two parameters, $\\mu$ and $\\delta$, then the desired class-conditional density is:\n",
    "\n",
    "$$\n",
    "p(x|D) = \\int \\int p(x | \\mu, \\delta) p(\\mu, \\delta | D) \\,d\\delta \\,d\\mu\\\\\n",
    "$$"
   ]
  },
  {
   "cell_type": "markdown",
   "metadata": {},
   "source": [
    "The priors $p(\\vec{\\theta}|D)$ of the parameters are given by the question to be **uniform** throughout the range of the data. Then the term $p(\\vec{\\theta}|D)$ or $p(\\mu, \\delta|D)$ is just a constant $\\alpha$. The equation is reduced to:\n",
    "\n",
    "$$\\begin{align}\n",
    "p(x|D) &= \\int \\int p(x | \\mu, \\delta) \\mathbf{\\alpha} \\,d\\delta\\,d\\mu\\\\\n",
    "&= \\alpha \\int \\int p(x | \\mu, \\delta) \\,d\\delta\\,d\\mu\\\\\n",
    "\\end{align}$$"
   ]
  },
  {
   "cell_type": "markdown",
   "metadata": {},
   "source": [
    "The likelihood density $p(x|\\mu, \\delta)$ is a density density. We can substitute its definition into $p(x|D)$ as follows:\n",
    "\n",
    "$$\\begin{align}\n",
    "p(x|D) \n",
    "&= \\alpha \\int \\int_{|x - \\mu|}^{\\delta_{\\mathrm{max}}} \\frac{\\delta - |x - \\mu|}{\\delta^2} \\,d\\delta\\,d\\mu\\\\\n",
    "&= \\alpha \\int \\int_{|x - \\mu|}^{\\delta_{\\mathrm{max}}} \\left( \\frac{1}{\\delta} - \\frac{|x - \\mu|}{\\delta^2} \\right) \\,d\\delta\\,d\\mu\\\\\n",
    "&= \\alpha \\int \\int_{|x - \\mu|}^{\\delta_{\\mathrm{max}}} \\left( \\frac{1}{\\delta} - |x - \\mu|\\delta^{-2} \\right) \\,d\\delta\\,d\\mu\\\\\n",
    "&= \\alpha \\int \\left( \\ln{\\delta} - (-1)|x - \\mu|\\delta^{-1} \\right) \\Big|_{\\delta=|x - \\mu|}^{\\delta_{\\mathrm{max}}} \\,d\\mu\\\\\n",
    "&= \\alpha \\int \\left( \\ln{\\delta} + |x - \\mu|\\delta^{-1} \\right) \\Big|_{\\delta=|x - \\mu|}^{\\delta_{\\mathrm{max}}} \\,d\\mu\\\\\n",
    "&= \\alpha \\int \\left( \\ln{\\delta} + \\frac{|x - \\mu|}{\\delta} \\right) \\Big|_{\\delta=|x - \\mu|}^{\\delta_{\\mathrm{max}}} \\,d\\mu\\\\\n",
    "&= \\alpha \\int \\left( \\left[ \\ln{\\delta_{\\mathrm{max}}} - \\ln{|x - \\mu|} \\right] + \\left[ |x - \\mu| \\left( \\frac{1}{\\delta_{\\mathrm{max}}} - \\frac{1}{|x - \\mu|} \\right) \\right] \\right) \\,d\\mu\\\\\n",
    "&= \\alpha \\int_{x_{\\mathrm{max}}}^{x_{\\mathrm{min}}} \\left( \\left[ \\ln{\\delta_{\\mathrm{max}}} - \\ln{|x - \\mu|} \\right] + \\left[ |x - \\mu| \\left( \\frac{1}{\\delta_{\\mathrm{max}}} - \\frac{1}{|x - \\mu|} \\right) \\right] \\right) \\,d\\mu\\\\\n",
    "\\end{align}$$"
   ]
  },
  {
   "cell_type": "markdown",
   "metadata": {},
   "source": [
    "The value of $|x - \\mu|$ can be + or - based on the interval. So the integral is changed the form into:\n",
    "\n",
    "$$\\begin{align}\n",
    "p(x|D) \n",
    "&= \\alpha \\int_{x_{\\mathrm{max}}}^{x} \\left( \\left[ \\ln{\\delta_{\\mathrm{max}}} - \\ln{(x - \\mu)} \\right] + \\left[ (x - \\mu) \\left( \\frac{1}{\\delta_{\\mathrm{max}}} - \\frac{1}{(x - \\mu)} \\right) \\right] \\right) \\,d\\mu\\\\\n",
    "&+\n",
    "\\alpha \\int_{x}^{x_{\\mathrm{min}}} \\left( \\left[ \\ln{\\delta_{\\mathrm{max}}} - \\ln{(\\mu - x)} \\right] + \\left[ (\\mu - x) \\left( \\frac{1}{\\delta_{\\mathrm{max}}} - \\frac{1}{(\\mu - x)} \\right) \\right] \\right) \\,d\\mu\\\\\n",
    "\\end{align}$$"
   ]
  },
  {
   "cell_type": "markdown",
   "metadata": {},
   "source": [
    "Next, solving the last integral:\n",
    "\n",
    "$$\\begin{align}\n",
    "p(x|D) &=\n",
    "\\alpha \\left[ \\mu \\left(\\ln \\delta_{max} - \\frac{1}{2} \\right) + (x - \\mu) \\ln (x - \\mu) - (x - \\mu) - \\frac{(x - \\mu)^{2}}{2\\delta_{max}} \\right]_{\\mu = x_{min}}^{x}\\\\\n",
    "&+ \\alpha \\left[ \\mu \\left(\\ln \\delta_{max} - \\frac{1}{2} \\right) - (\\mu - x) \\ln (\\mu - x) + (\\mu - x) + \\frac{(\\mu - x)^{2}}{2\\delta_{max}} \\right]_{\\mu = x}^{x_{max}}\\\\\n",
    "\\end{align}$$"
   ]
  },
  {
   "cell_type": "markdown",
   "metadata": {},
   "source": [
    "Plug in the boundary of integral, and move $\\alpha$ to the other side, we get:\n",
    "$$\\begin{align}\n",
    "\\frac{p(x|D)}{\\alpha} &= \\delta_{max} \\left( \\ln \\delta_{max} - \\frac{1}{2} \\right) - (x_{max} - x) \\ln (x_{max} - x) - (x - x_{min}) \\ln (x - x_{min})\\\\\n",
    "&+ \\delta_{max} + \\frac{(x_{max} - x)^{2} + (x - x_{min})^{2}}{2\\delta_{max}}\n",
    "\\end{align}$$"
   ]
  },
  {
   "cell_type": "code",
   "execution_count": 66,
   "metadata": {},
   "outputs": [],
   "source": [
    "def ln(x):\n",
    "    return np.nan_to_num(np.log(x))\n",
    "\n",
    "def desired_class_conditional_density(x, x_max, delta_max):\n",
    "    return (delta_max * (ln(delta_max) - 1/2)) - ((x_max - x) * ln(x_max - x)) - ((x - x_min) * ln(x - x_min)) + delta_max + (((x_max - x)**2 + (x - x_min)**2) / (2 * delta_max))"
   ]
  },
  {
   "cell_type": "code",
   "execution_count": 67,
   "metadata": {},
   "outputs": [
    {
     "name": "stderr",
     "output_type": "stream",
     "text": [
      "<ipython-input-66-1e76a9e6f744>:2: RuntimeWarning: divide by zero encountered in log\n",
      "  return np.nan_to_num(np.log(x))\n"
     ]
    }
   ],
   "source": [
    "x_min = D.min()\n",
    "x_max = D.max()\n",
    "delta_max = x_max - x_min\n",
    "\n",
    "X = np.arange(D.min(), D.max(), 0.01)\n",
    "Y = [desired_class_conditional_density(x, x_max, delta_max) for x in X]"
   ]
  },
  {
   "cell_type": "code",
   "execution_count": 68,
   "metadata": {},
   "outputs": [
    {
     "data": {
      "image/png": "[encoded data removed]",
      "text/plain": [
       "<Figure size 720x432 with 1 Axes>"
      ]
     },
     "metadata": {
      "needs_background": "light"
     },
     "output_type": "display_data"
    }
   ],
   "source": [
    "fig, ax = plt.subplots(figsize=(10, 6))\n",
    "ax.plot(X, Y, linewidth=4)\n",
    "ax.set_xlabel(r\"$x$\", size=14)\n",
    "ax.set_ylabel(r\"$\\frac{p(x|D)}{\\alpha}$\", size=18)\n",
    "plt.show()"
   ]
  },
  {
   "cell_type": "markdown",
   "metadata": {},
   "source": [
    "Since the desired class-conditional density $p(x|D)$ has a constant $\\alpha$ with it, the sum of all x's is not $1$."
   ]
  },
  {
   "cell_type": "code",
   "execution_count": 69,
   "metadata": {},
   "outputs": [
    {
     "data": {
      "text/latex": [
       "$\\displaystyle \\hat{x} = 0.3740$"
      ],
      "text/plain": [
       "<IPython.core.display.Math object>"
      ]
     },
     "metadata": {},
     "output_type": "display_data"
    }
   ],
   "source": [
    "x_hat = X[np.argmax(Y)]\n",
    "answer(r\"\\hat{x}\", x_hat)"
   ]
  },
  {
   "cell_type": "markdown",
   "metadata": {},
   "source": [
    "We can also find $\\hat{x} = 0.3740$ which is the value of x with the maximum $\\frac{p(x|D)}{\\alpha}$."
   ]
  }
 ],
 "metadata": {
  "kernelspec": {
   "display_name": "Python 3",
   "language": "python",
   "name": "python3"
  },
  "language_info": {
   "codemirror_mode": {
    "name": "ipython",
    "version": 3
   },
   "file_extension": ".py",
   "mimetype": "text/x-python",
   "name": "python",
   "nbconvert_exporter": "python",
   "pygments_lexer": "ipython3",
   "version": "3.8.5"
  }
 },
 "nbformat": 4,
 "nbformat_minor": 4
}
