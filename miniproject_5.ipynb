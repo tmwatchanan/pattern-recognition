{
 "cells": [
  {
   "cell_type": "markdown",
   "metadata": {},
   "source": [
    "<center><h1>Mini Project 5</h1></center>\n",
    "<center><h2>Watchanan Chantapakul (<a href=\"mailto:wcgzm@umsystem.edu\"><code>wcgzm</code></a>)</h2></center>\n",
    "<hr />"
   ]
  },
  {
   "cell_type": "markdown",
   "metadata": {},
   "source": [
    "This question is to demonstrate that: 1) when the selected model is poor, the maximum-likelihood classifier does not produce satisfactory results; and 2) proper transformation of the data can compensate for poor models. The dataset[<sup>1</sup>](#fn1) used for this question is divided into training[<sup>2</sup>](#fn2) and test[<sup>3</sup>](#fn3) data, with each one consisting of 3 classes in a 2D-feature space.\n",
    "\n",
    "- a) Assuming Gaussian distribution for all three class conditional densities, and with unknown means and covariances, compute the **maximum likelihood estimates** for each class using the training data.\n",
    "- b) Ignore the priors, i.e. assume 1/3 for all three classes, and redo parts a) and b) of MiniProject 2, Question 1, and use those same Matlab functions in part c) below. Use the means and variances from part a) above.\n",
    "- c) Classify the test data and compute the test error using confusion matrix[<sup>4</sup>](#fn4).\n",
    "- d) **Bayesian estimates**. The data has a simpler description when seen in polar coordinates. Use *cart2pol()* to transform all the data points to polar coordinates. Use scatter() to plot the transformed points. What you should find is that the transformed data looks Gaussian on the radius r and uniform on the angle $\\theta$. So, ignore the angle $\\theta$ and classify the test data only on r as\n",
    "follows.\n",
    "\n",
    "The problem is now 1-D and again, if you inspect the data, Gaussian distribution is a more suitable pdf to describe all three classes. Assume then that each class has $p(r|\\omega_i) = \\mathcal{N}(\\mu_i, \\sigma^2)$ with $\\mu_i$ unknown and variance $\\sigma^2 = 0.25$ for all three classes. Let the only prior knowledge about $\\mu_i$ be $p(\\mu_i) = \\mathcal{N}(\\mu_0 = 0, \\sigma_0^2 = 100)$ and compute the Bayes estimates for $\\mu_i$ and the posterior distribution $p(\\mu_i|D_i)$ of all three classes. Next compute $p(r|\\omega_i,D_i) = \\int p(r|\\mu_i) p(\\mu_i|D_i) \\,d\\mu_i$ and use this density estimate to classify the test data and compute the test error using confusion matrix.\n",
    "\n",
    "**Do not forget to comment on the results from each step above.**\n",
    "<br /><br />\n",
    "<span id=\"fn1\"><sup>1</sup> http://vigir.missouri.edu/~gdesouza/ece7720/test_train_data_class3.mat</span><br />\n",
    "<span id=\"fn2\"><sup>2</sup> access the training data by TrainPts = Data.train</span><br />\n",
    "<span id=\"fn3\"><sup>3</sup> access the test data by TestPts = Data.test</span><br />\n",
    "<span id=\"fn4\"><sup>4</sup> http://vigir.missouri.edu/~gdesouza/ece7720/Lecture_Notes/Lecture10.pdf</span><br />"
   ]
  },
  {
   "cell_type": "markdown",
   "metadata": {},
   "source": [
    "<hr />"
   ]
  },
  {
   "cell_type": "code",
   "execution_count": 1,
   "metadata": {},
   "outputs": [],
   "source": [
    "%matplotlib inline\n",
    "\n",
    "import os\n",
    "\n",
    "import numpy as np\n",
    "import sympy\n",
    "import scipy\n",
    "import scipy.io\n",
    "\n",
    "import matplotlib\n",
    "import matplotlib.pyplot as plt\n",
    "from matplotlib import cm\n",
    "from matplotlib.lines import Line2D\n",
    "from mpl_toolkits.mplot3d import Axes3D\n",
    "\n",
    "from IPython.display import display, Math\n",
    "\n",
    "np.random.seed(7720)"
   ]
  },
  {
   "cell_type": "code",
   "execution_count": 2,
   "metadata": {},
   "outputs": [],
   "source": [
    "matplotlib.rcParams[\"figure.dpi\"] = 100\n",
    "matplotlib.rcParams['savefig.dpi'] = 600"
   ]
  },
  {
   "cell_type": "code",
   "execution_count": 3,
   "metadata": {},
   "outputs": [
    {
     "data": {
      "text/html": [
       "\n",
       "<style>\n",
       ".jp-RenderedImage {\n",
       "    display: table-cell;\n",
       "    text-align: center;\n",
       "    vertical-align: middle;\n",
       "}\n",
       "</style>\n"
      ],
      "text/plain": [
       "<IPython.core.display.HTML object>"
      ]
     },
     "execution_count": 3,
     "metadata": {},
     "output_type": "execute_result"
    }
   ],
   "source": [
    "from IPython.core.display import HTML\n",
    "HTML(\"\"\"\n",
    "<style>\n",
    ".jp-RenderedImage {\n",
    "    display: table-cell;\n",
    "    text-align: center;\n",
    "    vertical-align: middle;\n",
    "}\n",
    "</style>\n",
    "\"\"\")"
   ]
  },
  {
   "cell_type": "code",
   "execution_count": 4,
   "metadata": {},
   "outputs": [],
   "source": [
    "def show(text, ans, precision=4):\n",
    "    if type(ans) == np.ndarray:\n",
    "        t = r'\\begin{bmatrix} '\n",
    "        for i in ans:\n",
    "#             print(i, type(i))\n",
    "#             print(r' \\\\ '.join(i))\n",
    "            if type(i) != np.ndarray:\n",
    "                t += f'{i:.4f}' + r' \\\\ '\n",
    "            else:\n",
    "                a_str = np.array2string(i, precision=precision, separator=r' & ')\n",
    "                t += a_str[1:-1]\n",
    "                t += r' \\\\ '\n",
    "        t += r'\\end{bmatrix}'\n",
    "        display(Math(f'{text} = {t}'))\n",
    "    else:\n",
    "        display(Math(f'{text} = {ans:.{precision}f}'))"
   ]
  },
  {
   "cell_type": "markdown",
   "metadata": {},
   "source": [
    "## Dataset"
   ]
  },
  {
   "cell_type": "markdown",
   "metadata": {},
   "source": [
    "Load data from the `test_train_data_class3.mat` file. The customized `loadmat` function of scipy is needed here as the original `loadmat` function cannot cope with nested dictionaries."
   ]
  },
  {
   "cell_type": "code",
   "execution_count": 5,
   "metadata": {
    "tags": []
   },
   "outputs": [],
   "source": [
    "# credit: https://stackoverflow.com/a/29126361/7150241\n",
    "def loadmat(filename):\n",
    "    '''\n",
    "    this function should be called instead of direct spio.loadmat\n",
    "    as it cures the problem of not properly recovering python dictionaries\n",
    "    from mat files. It calls the function check keys to cure all entries\n",
    "    which are still mat-objects\n",
    "    '''\n",
    "    def _check_keys(d):\n",
    "        '''\n",
    "        checks if entries in dictionary are mat-objects. If yes\n",
    "        todict is called to change them to nested dictionaries\n",
    "        '''\n",
    "        for key in d:\n",
    "            if isinstance(d[key], scipy.io.matlab.mio5_params.mat_struct):\n",
    "                d[key] = _todict(d[key])\n",
    "        return d\n",
    "\n",
    "    def _todict(matobj):\n",
    "        '''\n",
    "        A recursive function which constructs from matobjects nested dictionaries\n",
    "        '''\n",
    "        d = {}\n",
    "        for strg in matobj._fieldnames:\n",
    "            elem = matobj.__dict__[strg]\n",
    "            if isinstance(elem, scipy.io.matlab.mio5_params.mat_struct):\n",
    "                d[strg] = _todict(elem)\n",
    "            elif isinstance(elem, np.ndarray):\n",
    "                d[strg] = _tolist(elem)\n",
    "            else:\n",
    "                d[strg] = elem\n",
    "        return d\n",
    "\n",
    "    def _tolist(ndarray):\n",
    "        '''\n",
    "        A recursive function which constructs lists from cellarrays\n",
    "        (which are loaded as numpy ndarrays), recursing into the elements\n",
    "        if they contain matobjects.\n",
    "        '''\n",
    "        elem_list = []\n",
    "        for sub_elem in ndarray:\n",
    "            if isinstance(sub_elem, scipy.io.matlab.mio5_params.mat_struct):\n",
    "                elem_list.append(_todict(sub_elem))\n",
    "            elif isinstance(sub_elem, np.ndarray):\n",
    "                elem_list.append(_tolist(sub_elem))\n",
    "            else:\n",
    "                elem_list.append(sub_elem)\n",
    "        return elem_list\n",
    "    data = scipy.io.loadmat(filename, struct_as_record=False, squeeze_me=True)\n",
    "    return _check_keys(data)"
   ]
  },
  {
   "cell_type": "code",
   "execution_count": 6,
   "metadata": {},
   "outputs": [],
   "source": [
    "mat = loadmat(os.path.join(\"data\", \"test_train_data_class3.mat\"))"
   ]
  },
  {
   "cell_type": "code",
   "execution_count": 7,
   "metadata": {},
   "outputs": [
    {
     "data": {
      "text/plain": [
       "dict_keys(['test', 'train'])"
      ]
     },
     "execution_count": 7,
     "metadata": {},
     "output_type": "execute_result"
    }
   ],
   "source": [
    "mat['Data'].keys()"
   ]
  },
  {
   "cell_type": "markdown",
   "metadata": {},
   "source": [
    "The stored `Data` variable contains two subsets including *test* and *train*."
   ]
  },
  {
   "cell_type": "code",
   "execution_count": 8,
   "metadata": {},
   "outputs": [],
   "source": [
    "train_mat = mat['Data']['train']\n",
    "test_mat = mat['Data']['test']"
   ]
  },
  {
   "cell_type": "markdown",
   "metadata": {},
   "source": [
    "We dig deeper into the number of classes and the number of dimensions."
   ]
  },
  {
   "cell_type": "code",
   "execution_count": 9,
   "metadata": {},
   "outputs": [
    {
     "name": "stdout",
     "output_type": "stream",
     "text": [
      "C = 3 classes\n",
      "d = 2 dimensions\n"
     ]
    }
   ],
   "source": [
    "C = len(train_mat)\n",
    "d = len(train_mat[0])\n",
    "print(f'C = {C} classes')\n",
    "print(f'd = {d} dimensions')"
   ]
  },
  {
   "cell_type": "code",
   "execution_count": 10,
   "metadata": {},
   "outputs": [],
   "source": [
    "train_data, test_data = [], []\n",
    "\n",
    "for c in range(C):\n",
    "    train_data.append(np.array(train_mat[c]).T)\n",
    "    test_data.append(np.array(test_mat[c]).T)"
   ]
  },
  {
   "cell_type": "code",
   "execution_count": 11,
   "metadata": {},
   "outputs": [
    {
     "name": "stdout",
     "output_type": "stream",
     "text": [
      "[train]\tclass 1 = 30 samples\n",
      "[test]\tclass 1 = 70 samples\n",
      "------------------------------\n",
      "[train]\tclass 2 = 50 samples\n",
      "[test]\tclass 2 = 94 samples\n",
      "------------------------------\n",
      "[train]\tclass 3 = 20 samples\n",
      "[test]\tclass 3 = 46 samples\n",
      "------------------------------\n"
     ]
    }
   ],
   "source": [
    "for c in range(C):\n",
    "    print(f'[train]\\tclass {c+1} = {len(train_data[c])} samples')\n",
    "    print(f'[test]\\tclass {c+1} = {len(test_data[c])} samples')\n",
    "    print('-' * 30)"
   ]
  },
  {
   "cell_type": "markdown",
   "metadata": {},
   "source": [
    "### Data Visualization"
   ]
  },
  {
   "cell_type": "code",
   "execution_count": 12,
   "metadata": {},
   "outputs": [],
   "source": [
    "def plot_2d_features(data, mu=None, cov=None, title=\"\", x_label=\"$x_1$\", y_label=\"$x_2$\"):\n",
    "    sample_colors = ('deepskyblue', 'hotpink', 'mediumseagreen')\n",
    "    sample_markers = ('o', 's', '^')\n",
    "    mean_colors = ('blue', 'deeppink', 'green')\n",
    "\n",
    "    fig, ax = plt.subplots(figsize=(8, 8))\n",
    "\n",
    "    for c in range(C):\n",
    "        # samples\n",
    "        ax.scatter(data[c][:, 0], data[c][:, 1], color=sample_colors[c], marker=sample_markers[c], label=f\"$\\omega_{c+1}$\")\n",
    "        \n",
    "        # means\n",
    "        if mu is not None:\n",
    "            ax.scatter(mu[c][0], mu[c][1], color=mean_colors[c], marker='X', s=100, edgecolor='black', label=r\"$\\vec{\\mu}_\" + str(c+1) + \"$\")\n",
    "\n",
    "        # covariances\n",
    "        if cov is not None:\n",
    "            eigval, eigvec = np.linalg.eig(cov[c])\n",
    "            std_values = eigval\n",
    "\n",
    "            major_idx = np.argmax(eigval)\n",
    "            minor_idx = 1 if major_idx == 0 else 0\n",
    "\n",
    "            alpha = np.arctan2(eigvec[1, major_idx], eigvec[0, major_idx])\n",
    "            major_r_x = std_values[major_idx]\n",
    "            major_r_y = std_values[minor_idx]\n",
    "\n",
    "            theta = np.linspace(0, 2*np.pi, 100)\n",
    "            mean_x, mean_y = mu[c]\n",
    "            e_X = major_r_x * np.cos(theta) * np.cos(alpha) - major_r_y * np.sin(theta) * np.sin(alpha) + mean_x\n",
    "            e_Y = major_r_x * np.cos(theta) * np.sin(alpha) + major_r_y * np.sin(theta) * np.cos(alpha) + mean_y\n",
    "            ax.plot(e_X, e_Y, color=mean_colors[c], linestyle=\"--\")\n",
    "\n",
    "            # legends\n",
    "            handles, labels = ax.get_legend_handles_labels()\n",
    "            handles.append(Line2D([0], [0], color=\"gray\", linewidth=3, linestyle='--'))\n",
    "            labels.append(\"$\\sigma_{j}^2$\")\n",
    "\n",
    "    ax.set_title(title, fontsize=14)\n",
    "    ax.set_xlabel(x_label, fontsize=14)\n",
    "    ax.set_ylabel(y_label, fontsize=14)\n",
    "    ax.set_aspect(1)\n",
    "    if cov is None:\n",
    "        handles, labels = ax.get_legend_handles_labels()\n",
    "    ax.legend(handles, labels, loc='center left', bbox_to_anchor=(1, 0.5), prop={'size': 12})\n",
    "\n",
    "    plt.close(fig)\n",
    "    return fig"
   ]
  },
  {
   "cell_type": "code",
   "execution_count": 13,
   "metadata": {},
   "outputs": [
    {
     "data": {
      "image/png": "[encoded data removed]",
      "text/plain": [
       "<Figure size 800x800 with 1 Axes>"
      ]
     },
     "execution_count": 13,
     "metadata": {},
     "output_type": "execute_result"
    }
   ],
   "source": [
    "plot_2d_features(train_data, title=\"Training samples in Cartesian coordinates\")"
   ]
  },
  {
   "cell_type": "markdown",
   "metadata": {},
   "source": [
    "## Maximum Likelihood Estimation (MLE)"
   ]
  },
  {
   "cell_type": "markdown",
   "metadata": {},
   "source": [
    "Assume that the **class-conditional densities** $p(\\mathbf{x}|\\omega_i)$ are in the form of Gaussian distribution with unknown parameters, means $\\mathbf{\\mu}_i$ and covariance matrices $\\mathbf{\\Sigma}_i$. But we can estimate those parameters by using a method called maximum likelihood estimation (MLE) on the given training data."
   ]
  },
  {
   "cell_type": "markdown",
   "metadata": {},
   "source": [
    "From the training data, we have $C=3$ classes. Thus, there are 3 sets, $D_1, D_2,$ and $D_3$. All samples in each set are i.i.d. (independent and identically distributed). Also, we use the samples in $D_i$ only to estimate $\\theta_i$ without interfering with other classes.\n",
    "\n",
    "There are $n_i$ samples, $x_1, \\dots, x_{n_i}$, in $D_i$"
   ]
  },
  {
   "cell_type": "markdown",
   "metadata": {},
   "source": [
    "### Log-likelihood $\\ln p(x_k | \\mathbf{\\theta})$"
   ]
  },
  {
   "cell_type": "markdown",
   "metadata": {},
   "source": [
    "Since the data are in 2D space, the class-conditional densities are **multivariate Gaussian** distribution with the following parameters $\\vec{\\theta}$:\n",
    "- $\\theta_1 = \\mu$ (mean)\n",
    "- $\\theta_2 = \\Sigma$ (covariance matrix)"
   ]
  },
  {
   "cell_type": "markdown",
   "metadata": {},
   "source": [
    "Our log-likelihood $\\ln p(x_k | \\vec{\\theta})$ of a single sample $x_k$ is then defined as:\n",
    "\n",
    "$$\n",
    "\\ln p(x_k | \\vec{\\theta}) = -\\frac{1}{2}(x_k-\\mu_i)^\\mathsf{T}\\Sigma_i^{-1}(x_k-\\mu_i) -\\frac{d}{2}\\ln (2\\pi) - \\frac{1}{2} \\ln |\\Sigma_i| + \\ln P(\\omega_i)\n",
    "$$"
   ]
  },
  {
   "cell_type": "code",
   "execution_count": 14,
   "metadata": {},
   "outputs": [],
   "source": [
    "def log_likelihood(x, mean, cov, prior):\n",
    "    d = len(x)\n",
    "    A = -0.5 * ((mahalanobis_distance(x, mean, cov)) ** 2)\n",
    "    B = - ((d/2) * np.log(2 * np.pi))\n",
    "    C = - (0.5 * np.log(determinant(cov))) + np.log(prior)\n",
    "    return A + B + C"
   ]
  },
  {
   "cell_type": "markdown",
   "metadata": {},
   "source": [
    "Log-likelihood $l$ of the dataset $D = [x_1, \\dots, x_{n_i}]$ is:\n",
    "$$\n",
    "l(\\vec{\\theta}) = \\sum_{k=1}^{n} \\ln p(x_k | \\vec{\\theta})\n",
    "$$\n",
    "\n",
    "We arrive at the gradients or the derivatives of the log-likelihood $l$ w.r.t. $\\vec{\\theta} = [\\theta_1\\ \\theta_2]^{\\mathsf{T}}$ as follows:\n",
    "$$\n",
    "\\nabla_{\\vec{\\theta}} l = \\sum_{k=1}^{n} \\nabla_{\\vec{\\theta}} \\ln p(x_k | \\vec{\\theta})\n",
    "$$"
   ]
  },
  {
   "cell_type": "markdown",
   "metadata": {},
   "source": [
    "To estimate $\\vec{\\theta}$, we set the gradients to be zero to obtain the maximum likelihood estimate of $\\vec{\\theta}$,\n",
    "$$\n",
    "\\nabla_{\\vec{\\theta}} l = \\vec{0}\n",
    "$$\n",
    "\n",
    "\n",
    "$$\n",
    "\\nabla_{\\vec{\\theta}} l = \n",
    "\\begin{bmatrix}\n",
    "\\frac{\\partial l}{\\partial \\theta_1}\\\\\n",
    "\\frac{\\partial l}{\\partial \\theta_2}\n",
    "\\end{bmatrix}\n",
    "$$"
   ]
  },
  {
   "cell_type": "markdown",
   "metadata": {
    "tags": []
   },
   "source": [
    "#### Estimate $\\theta_1 = \\mu$"
   ]
  },
  {
   "cell_type": "markdown",
   "metadata": {},
   "source": [
    "$$\n",
    "\\frac{\\partial l}{\\partial \\theta_1}\n",
    "= \\frac{\\partial l}{\\partial \\mu}\n",
    "= \\frac{\\partial}{\\partial \\mu} \\left( \\sum_{k=1}^{n} -\\frac{1}{2}(x_k-\\mu_i)^\\mathsf{T}\\Sigma_i^{-1}(x_k-\\mu_i) \\right)\n",
    "= \\vec{0}\n",
    "$$"
   ]
  },
  {
   "cell_type": "markdown",
   "metadata": {},
   "source": [
    "$$\n",
    "\\frac{\\partial}{\\partial \\mu} \\left( \\sum_{k=1}^{n} (x_k-\\mu_i)^\\mathsf{T}\\Sigma_i^{-1}(x_k-\\mu_i) \\right)\n",
    "= \\vec{0}\n",
    "$$"
   ]
  },
  {
   "cell_type": "markdown",
   "metadata": {},
   "source": [
    "$$\n",
    "\\frac{\\partial}{\\partial \\mu} \\left( \\sum_{k=1}^{n}\n",
    "(x_k^{\\mathsf{T}}\\Sigma_i^{-1}-\\mu_i^{\\mathsf{T}}\\Sigma_i^{-1}) (x_k-\\mu_i)\n",
    "\\right)\n",
    "= \\vec{0}\n",
    "$$"
   ]
  },
  {
   "cell_type": "markdown",
   "metadata": {},
   "source": [
    "$$\n",
    "\\frac{\\partial}{\\partial \\mu} \\left( \\sum_{k=1}^{n}\n",
    "(x_k^{\\mathsf{T}}\\Sigma_i^{-1}x_k - 2\\mu_i^{\\mathsf{T}}\\Sigma_i^{-1}x_k + \\mu_i^{\\mathsf{T}} \\Sigma_i^{-1} \\mu_i)\n",
    "\\right)\n",
    "= \\vec{0}\n",
    "$$"
   ]
  },
  {
   "cell_type": "markdown",
   "metadata": {},
   "source": [
    "$$\n",
    "\\sum_{k=1}^{n}\n",
    "(0 - 2\\Sigma_i^{-1}x_k + 2 \\Sigma_i^{-1} \\mu_i)\n",
    "= \\vec{0}\n",
    "$$"
   ]
  },
  {
   "cell_type": "markdown",
   "metadata": {},
   "source": [
    "$$\n",
    "\\sum_{k=1}^{n}\n",
    "(- \\Sigma_i^{-1}x_k + \\Sigma_i^{-1} \\mu_i)\n",
    "= \\vec{0}\n",
    "$$"
   ]
  },
  {
   "cell_type": "markdown",
   "metadata": {},
   "source": [
    "$$\n",
    "\\sum_{k=1}^{n}\n",
    "(\\Sigma_i^{-1} \\mu_i - \\Sigma_i^{-1}x_k)\n",
    "= \\vec{0}\n",
    "$$"
   ]
  },
  {
   "cell_type": "markdown",
   "metadata": {},
   "source": [
    "$$\n",
    "\\sum_{k=1}^{n}\n",
    "\\left(\\Sigma_i^{-1} (\\mu_i - x_k) \\right)\n",
    "= \\vec{0}\n",
    "$$"
   ]
  },
  {
   "cell_type": "markdown",
   "metadata": {},
   "source": [
    "$$\n",
    "\\Sigma_i^{-1}\n",
    "\\sum_{k=1}^{n}\n",
    "\\left(\\mu_i - x_k \\right)\n",
    "= \\vec{0}\n",
    "$$"
   ]
  },
  {
   "cell_type": "markdown",
   "metadata": {},
   "source": [
    "Multiplying both sides by $\\Sigma$,\n",
    "$$\n",
    "\\sum_{k=1}^{n}\n",
    "\\left(\\mu_i - x_k \\right)\n",
    "= \\vec{0}\n",
    "$$"
   ]
  },
  {
   "cell_type": "markdown",
   "metadata": {},
   "source": [
    "$$\n",
    "n \\mu_i - \\sum_{k=1}^{n} x_k\n",
    "= \\vec{0}\n",
    "$$"
   ]
  },
  {
   "cell_type": "markdown",
   "metadata": {},
   "source": [
    "$$\n",
    "\\mu_i = \\frac{1}{n} \\sum_{k=1}^{n} x_k\n",
    "$$"
   ]
  },
  {
   "cell_type": "code",
   "execution_count": 15,
   "metadata": {},
   "outputs": [],
   "source": [
    "def compute_mean(X, axis=0):\n",
    "    return np.sum(X, axis=axis) / len(X)"
   ]
  },
  {
   "cell_type": "code",
   "execution_count": 16,
   "metadata": {},
   "outputs": [
    {
     "data": {
      "text/latex": [
       "$\\displaystyle \\vec{\\mu}_1 = \\begin{bmatrix} 0.2754 \\\\ -0.1763 \\\\ \\end{bmatrix}$"
      ],
      "text/plain": [
       "<IPython.core.display.Math object>"
      ]
     },
     "metadata": {},
     "output_type": "display_data"
    },
    {
     "data": {
      "text/latex": [
       "$\\displaystyle \\vec{\\mu}_2 = \\begin{bmatrix} 0.3218 \\\\ 0.2207 \\\\ \\end{bmatrix}$"
      ],
      "text/plain": [
       "<IPython.core.display.Math object>"
      ]
     },
     "metadata": {},
     "output_type": "display_data"
    },
    {
     "data": {
      "text/latex": [
       "$\\displaystyle \\vec{\\mu}_3 = \\begin{bmatrix} 0.5813 \\\\ 0.4961 \\\\ \\end{bmatrix}$"
      ],
      "text/plain": [
       "<IPython.core.display.Math object>"
      ]
     },
     "metadata": {},
     "output_type": "display_data"
    }
   ],
   "source": [
    "mu = np.zeros((C, d))\n",
    "for c in range(C):\n",
    "    mu[c] = compute_mean(train_data[c])\n",
    "    show(r'\\vec{\\mu}_' + str(c+1), mu[c])"
   ]
  },
  {
   "cell_type": "code",
   "execution_count": 17,
   "metadata": {},
   "outputs": [
    {
     "data": {
      "text/latex": [
       "$\\displaystyle \\mathrm{Numpy}\\ \\vec{\\mu}_1 = \\begin{bmatrix} 0.0496 \\\\ 0.0496 \\\\ \\end{bmatrix}$"
      ],
      "text/plain": [
       "<IPython.core.display.Math object>"
      ]
     },
     "metadata": {},
     "output_type": "display_data"
    },
    {
     "data": {
      "text/latex": [
       "$\\displaystyle \\mathrm{Numpy}\\ \\vec{\\mu}_2 = \\begin{bmatrix} 0.2712 \\\\ 0.2712 \\\\ \\end{bmatrix}$"
      ],
      "text/plain": [
       "<IPython.core.display.Math object>"
      ]
     },
     "metadata": {},
     "output_type": "display_data"
    },
    {
     "data": {
      "text/latex": [
       "$\\displaystyle \\mathrm{Numpy}\\ \\vec{\\mu}_3 = \\begin{bmatrix} 0.5387 \\\\ 0.5387 \\\\ \\end{bmatrix}$"
      ],
      "text/plain": [
       "<IPython.core.display.Math object>"
      ]
     },
     "metadata": {},
     "output_type": "display_data"
    }
   ],
   "source": [
    "np_mu = np.zeros((C, d))\n",
    "for c in range(C):\n",
    "    np_mu[c] = np.mean(train_data[c])\n",
    "    show(r'\\mathrm{Numpy}\\ \\vec{\\mu}_' + str(c+1), np_mu[c])"
   ]
  },
  {
   "cell_type": "code",
   "execution_count": 18,
   "metadata": {},
   "outputs": [
    {
     "name": "stdout",
     "output_type": "stream",
     "text": [
      "np.mean == compute_mean? False\n"
     ]
    }
   ],
   "source": [
    "print(\"np.mean == compute_mean?\", np.allclose(np_mu, mu))"
   ]
  },
  {
   "cell_type": "markdown",
   "metadata": {
    "tags": []
   },
   "source": [
    "#### Estimate $\\theta_2 = \\Sigma$"
   ]
  },
  {
   "cell_type": "markdown",
   "metadata": {},
   "source": [
    "This is a biased estimate for a covariance matrix $\\Sigma_i$."
   ]
  },
  {
   "cell_type": "markdown",
   "metadata": {},
   "source": [
    "$$\n",
    "\\frac{\\partial l}{\\partial \\theta_2}\n",
    "= \\frac{\\partial l}{\\partial \\Sigma}\n",
    "= \\frac{\\partial}{\\partial \\Sigma} \\left( \\sum_{k=1}^{n} \\left( -\\frac{1}{2}(x_k-\\mu_i)^\\mathsf{T}\\Sigma_i^{-1}(x_k-\\mu_i) - \\frac{1}{2} \\ln |\\Sigma_i| \\right) \\right)\n",
    "= \\vec{0}\n",
    "$$"
   ]
  },
  {
   "cell_type": "markdown",
   "metadata": {},
   "source": [
    "$$\n",
    "\\frac{\\partial}{\\partial \\Sigma} \\left( \\sum_{k=1}^{n} \\left( (x_k-\\mu_i)^\\mathsf{T}\\Sigma_i^{-1}(x_k-\\mu_i) + \\ln |\\Sigma_i| \\right) \\right)\n",
    "= \\vec{0}\n",
    "$$"
   ]
  },
  {
   "cell_type": "markdown",
   "metadata": {},
   "source": [
    "As the determinant of the inverse of a matrix is the inverse of the determinant, we arrive at:\n",
    "\n",
    "$$\n",
    "\\frac{\\partial}{\\partial \\Sigma} \\left( \\sum_{k=1}^{n} \\left( (x_k-\\mu_i)^\\mathsf{T}\\Sigma_i^{-1}(x_k-\\mu_i) + \\ln |\\Sigma_i^{-1}| \\right) \\right)\n",
    "= \\vec{0}\n",
    "$$"
   ]
  },
  {
   "cell_type": "markdown",
   "metadata": {},
   "source": [
    "$$\n",
    "\\sum_{k=1}^{n} \\left( -(x_k-\\mu_i)(x_k-\\mu_i)^\\mathsf{T} + \\frac{1}{\\Sigma_i^{-1}} \\right)\n",
    "= \\vec{0}\n",
    "$$"
   ]
  },
  {
   "cell_type": "markdown",
   "metadata": {},
   "source": [
    "$$\n",
    "- \\sum_{k=1}^{n} \\left((x_k-\\mu_i)(x_k-\\mu_i)^\\mathsf{T} \\right) + n\\Sigma_i\n",
    "= \\vec{0}\n",
    "$$"
   ]
  },
  {
   "cell_type": "markdown",
   "metadata": {},
   "source": [
    "Thus, we can estimate a covariance matrix $\\Sigma_i$ with\n",
    "\n",
    "$$\n",
    "\\Sigma_i\n",
    "= \\frac{1}{n} \\sum_{k=1}^{n} \\left((x_k-\\mu_i)(x_k-\\mu_i)^\\mathsf{T} \\right) \n",
    "$$"
   ]
  },
  {
   "cell_type": "code",
   "execution_count": 19,
   "metadata": {},
   "outputs": [],
   "source": [
    "def transpose(m):\n",
    "    if type(m[0]) not in (list, np.ndarray):\n",
    "        return m\n",
    "    return list(map(list,zip(*m)))"
   ]
  },
  {
   "cell_type": "code",
   "execution_count": 20,
   "metadata": {},
   "outputs": [],
   "source": [
    "def compute_covariance_matrix(X, mean, bias_term=0):\n",
    "    cov = np.zeros((len(mean), len(mean)))\n",
    "    for x in X:\n",
    "        a = np.array(x) - np.array(mean)\n",
    "        cov += a[:, None] @ transpose(a)[None, :]\n",
    "    cov /= len(X) - bias_term\n",
    "    return cov"
   ]
  },
  {
   "cell_type": "code",
   "execution_count": 21,
   "metadata": {},
   "outputs": [
    {
     "data": {
      "text/latex": [
       "$\\displaystyle \\mathbf{\\Sigma}_1 = \\begin{bmatrix}  1.1624 & -0.0383 \\\\ -0.0383 &  0.6878 \\\\ \\end{bmatrix}$"
      ],
      "text/plain": [
       "<IPython.core.display.Math object>"
      ]
     },
     "metadata": {},
     "output_type": "display_data"
    },
    {
     "data": {
      "text/latex": [
       "$\\displaystyle \\mathbf{\\Sigma}_2 = \\begin{bmatrix} 2.7287 & 0.1974 \\\\ 0.1974 & 3.6929 \\\\ \\end{bmatrix}$"
      ],
      "text/plain": [
       "<IPython.core.display.Math object>"
      ]
     },
     "metadata": {},
     "output_type": "display_data"
    },
    {
     "data": {
      "text/latex": [
       "$\\displaystyle \\mathbf{\\Sigma}_3 = \\begin{bmatrix}  5.2658 & -0.4554 \\\\ -0.4554 &  6.5497 \\\\ \\end{bmatrix}$"
      ],
      "text/plain": [
       "<IPython.core.display.Math object>"
      ]
     },
     "metadata": {},
     "output_type": "display_data"
    }
   ],
   "source": [
    "cov = np.zeros((C, d, d))\n",
    "for c in range(C):\n",
    "    cov[c] = compute_covariance_matrix(train_data[c], mu[c])\n",
    "    show(r'\\mathbf{\\Sigma}_' + str(c+1), cov[c])"
   ]
  },
  {
   "cell_type": "markdown",
   "metadata": {},
   "source": [
    "Cross-check with the Numpy's built-in function `np.cov`"
   ]
  },
  {
   "cell_type": "code",
   "execution_count": 22,
   "metadata": {},
   "outputs": [
    {
     "data": {
      "text/latex": [
       "$\\displaystyle \\mathrm{Numpy}\\ \\mathbf{\\Sigma}_1 = \\begin{bmatrix}  1.1624 & -0.0383 \\\\ -0.0383 &  0.6878 \\\\ \\end{bmatrix}$"
      ],
      "text/plain": [
       "<IPython.core.display.Math object>"
      ]
     },
     "metadata": {},
     "output_type": "display_data"
    },
    {
     "data": {
      "text/latex": [
       "$\\displaystyle \\mathrm{Numpy}\\ \\mathbf{\\Sigma}_2 = \\begin{bmatrix} 2.7287 & 0.1974 \\\\ 0.1974 & 3.6929 \\\\ \\end{bmatrix}$"
      ],
      "text/plain": [
       "<IPython.core.display.Math object>"
      ]
     },
     "metadata": {},
     "output_type": "display_data"
    },
    {
     "data": {
      "text/latex": [
       "$\\displaystyle \\mathrm{Numpy}\\ \\mathbf{\\Sigma}_3 = \\begin{bmatrix}  5.2658 & -0.4554 \\\\ -0.4554 &  6.5497 \\\\ \\end{bmatrix}$"
      ],
      "text/plain": [
       "<IPython.core.display.Math object>"
      ]
     },
     "metadata": {},
     "output_type": "display_data"
    }
   ],
   "source": [
    "np_cov = np.zeros((C, d, d))\n",
    "for c in range(C):\n",
    "    np_cov[c] = np.cov(train_data[c].T, bias=True)\n",
    "    show(r'\\mathrm{Numpy}\\ \\mathbf{\\Sigma}_' + str(c+1), np_cov[c])"
   ]
  },
  {
   "cell_type": "code",
   "execution_count": 23,
   "metadata": {},
   "outputs": [
    {
     "name": "stdout",
     "output_type": "stream",
     "text": [
      "[biased] np.cov == compute_covariance_matrix? True\n"
     ]
    }
   ],
   "source": [
    "print(\"[biased] np.cov == compute_covariance_matrix?\", np.allclose(np_cov, cov))"
   ]
  },
  {
   "cell_type": "code",
   "execution_count": 24,
   "metadata": {},
   "outputs": [
    {
     "data": {
      "image/png": "[encoded data removed]",
      "text/plain": [
       "<Figure size 800x800 with 1 Axes>"
      ]
     },
     "execution_count": 24,
     "metadata": {},
     "output_type": "execute_result"
    }
   ],
   "source": [
    "plot_2d_features(train_data, mu, cov, title=\"Training samples in Cartesian coordinates\")"
   ]
  },
  {
   "cell_type": "markdown",
   "metadata": {
    "tags": []
   },
   "source": [
    "## Classification"
   ]
  },
  {
   "cell_type": "markdown",
   "metadata": {},
   "source": [
    "Since we don't know anything a priori, the **priors** $P(\\omega_i)$ for all classes are uninformative or equally probable with probability of $\\frac{1}{3}$ each."
   ]
  },
  {
   "cell_type": "code",
   "execution_count": 25,
   "metadata": {
    "tags": []
   },
   "outputs": [],
   "source": [
    "priors = [1/3, 1/3, 1/3]"
   ]
  },
  {
   "cell_type": "markdown",
   "metadata": {},
   "source": [
    "### Discriminant function $g_i(\\cdot)$"
   ]
  },
  {
   "cell_type": "markdown",
   "metadata": {},
   "source": [
    "From MiniProject 2, the discriminant function with the following generic form is given by:\n",
    "$$ g_i(x) = -\\frac{1}{2}(x-\\mu_i)^t\\Sigma_i^{-1}(x-\\mu_i)-\\frac{d}{2}\\ln (2\\pi) - \\frac{1}{2} \\ln |\\Sigma_i| + \\ln P(\\omega_i) $$\n",
    "also for any given $d$ dimensional data, mean, covariance matrix and prior probabilities.\n",
    "\n",
    "<u>Note</u>: these below functions are from MiniProject 2."
   ]
  },
  {
   "cell_type": "code",
   "execution_count": 26,
   "metadata": {},
   "outputs": [],
   "source": [
    "def determinant(A):\n",
    "    if len(A) == 2:\n",
    "        det = (A[0][0] * A[1][1]) - (A[1][0] * A[0][1])\n",
    "        return det"
   ]
  },
  {
   "cell_type": "code",
   "execution_count": 27,
   "metadata": {},
   "outputs": [],
   "source": [
    "def inverse_matrix(A):\n",
    "    if len(A) == 2:\n",
    "        inv_A = [\n",
    "            [A[1][1], -A[0][1]],\n",
    "            [-A[1][0], A[0][0]]\n",
    "        ]\n",
    "        return np.array(inv_A) / determinant(A)"
   ]
  },
  {
   "cell_type": "code",
   "execution_count": 28,
   "metadata": {},
   "outputs": [],
   "source": [
    "def identity(N):\n",
    "    I = np.zeros((N, N), dtype=int)\n",
    "    for i in range(N):\n",
    "        I[i, i] = 1\n",
    "    return I"
   ]
  },
  {
   "cell_type": "code",
   "execution_count": 29,
   "metadata": {},
   "outputs": [],
   "source": [
    "def mahalanobis_distance(x, y, cov):\n",
    "    a = np.array(x) - np.array(y)\n",
    "    r2 = transpose(a) @ inverse_matrix(cov) @ a\n",
    "    return np.sqrt(r2)"
   ]
  },
  {
   "cell_type": "code",
   "execution_count": 30,
   "metadata": {},
   "outputs": [],
   "source": [
    "def discriminant_fx(x, mean, cov, prior):\n",
    "    d = len(x)\n",
    "    A = -0.5 * ((mahalanobis_distance(x, mean, cov)) ** 2)\n",
    "    B = - ((d/2) * np.log(2 * np.pi))\n",
    "    C = - (0.5 * np.log(determinant(cov))) + np.log(prior)\n",
    "    return A + B + C"
   ]
  },
  {
   "cell_type": "markdown",
   "metadata": {},
   "source": [
    "#### Classification Rule"
   ]
  },
  {
   "cell_type": "markdown",
   "metadata": {},
   "source": [
    "We predict the class of a sample $\\vec{x}$ based on the following equation:\n",
    "\n",
    "$$\n",
    "\\hat{y}(\\vec{x}) = \\operatorname*{argmax}_{i} g_i(\\vec{x})\n",
    "$$"
   ]
  },
  {
   "cell_type": "code",
   "execution_count": 31,
   "metadata": {},
   "outputs": [],
   "source": [
    "confusion_matrix = np.zeros((C, C))\n",
    "\n",
    "for c in range(C):\n",
    "    for x in test_data[c]:\n",
    "        g = np.zeros(C)\n",
    "        for i in range(C):\n",
    "            g[i] = discriminant_fx(x, mu[i], cov[i], priors[i])\n",
    "        pred_class = np.argmax(g)\n",
    "        confusion_matrix[c][pred_class] += 1"
   ]
  },
  {
   "cell_type": "markdown",
   "metadata": {},
   "source": [
    "### Confusion Matrix\n",
    "\n",
    "Confusion matrix is a tool that we can use to see the performance of a classifier. It is simply a table."
   ]
  },
  {
   "cell_type": "code",
   "execution_count": 32,
   "metadata": {},
   "outputs": [
    {
     "data": {
      "text/plain": [
       "array([[59., 11.,  0.],\n",
       "       [15., 61., 18.],\n",
       "       [ 0.,  7., 39.]])"
      ]
     },
     "execution_count": 32,
     "metadata": {},
     "output_type": "execute_result"
    }
   ],
   "source": [
    "confusion_matrix"
   ]
  },
  {
   "cell_type": "markdown",
   "metadata": {},
   "source": [
    "| | (predicted) 1 | (predicted) 2 | (predicted) 3 |\n",
    "| :-: | :-: | :-: | :-: |\n",
    "|<b>(actual) 1</b>|59|11|0|\n",
    "|<b>(actual) 2</b>|15|61|18|\n",
    "|<b>(actual) 3</b>|0|7|39|\n",
    "<center>Table 1: Confusion matrix of the model with the estimated parameter $\\mu_i$ and $\\Sigma_i$ using Maximum Likelihood Estimation</center>"
   ]
  },
  {
   "cell_type": "markdown",
   "metadata": {},
   "source": [
    "According to the confusion matrix shown above, most of the samples are classified correctly. They are placed in the diagonal of the confusion matrix. On the other hand, there are misclassified samples that are off-diagonal of the confusion matrix.\n",
    "\n",
    "- 11 samples are classified as class 2 but actually they are from class 1\n",
    "- 15 samples are classified as class 1 but actually they are from class 2\n",
    "- 7 samples are classified as class 2 but actually they are from class 3"
   ]
  },
  {
   "cell_type": "markdown",
   "metadata": {},
   "source": [
    "We can compute an accuracy out of the confusion matrix $\\mathbf{CM}$ as follows:\n",
    "\n",
    "$$\n",
    "\\mathrm{Accuracy}\n",
    "= \\operatorname{tr}(\\mathbf{CM})\n",
    "= \\frac{\\sum_{i=1}^{C} \\mathbf{CM}_{ii}}{\\sum_{i=1}^{C}\\sum_{j=1}^{C} \\mathbf{CM}_{ij}}\n",
    "= \\frac{1}{N} \\sum_{i=1}^{C} \\mathbf{CM}_{ii}\n",
    "$$"
   ]
  },
  {
   "cell_type": "markdown",
   "metadata": {},
   "source": [
    "Obviously, we can also calculate an error by subtracting the accuracy from 1.\n",
    "\n",
    "$$\n",
    "\\mathrm{Error} = 1 - \\mathrm{Accuracy}\n",
    "$$"
   ]
  },
  {
   "cell_type": "code",
   "execution_count": 33,
   "metadata": {},
   "outputs": [
    {
     "data": {
      "text/latex": [
       "$\\displaystyle \\mathrm{Test\\ Accuracy} = 0.7571$"
      ],
      "text/plain": [
       "<IPython.core.display.Math object>"
      ]
     },
     "metadata": {},
     "output_type": "display_data"
    },
    {
     "data": {
      "text/latex": [
       "$\\displaystyle \\mathrm{Test\\ Error} = 0.2429$"
      ],
      "text/plain": [
       "<IPython.core.display.Math object>"
      ]
     },
     "metadata": {},
     "output_type": "display_data"
    }
   ],
   "source": [
    "accuracy = confusion_matrix.trace() / confusion_matrix.sum()\n",
    "error = 1 - accuracy\n",
    "\n",
    "show('\\mathrm{Test\\ Accuracy}', accuracy)\n",
    "show('\\mathrm{Test\\ Error}', error)"
   ]
  },
  {
   "cell_type": "markdown",
   "metadata": {},
   "source": [
    "We can achieve the test accuracy of up to $75.71\\%$ which also results in the test error of $24.29\\%$."
   ]
  },
  {
   "cell_type": "markdown",
   "metadata": {},
   "source": [
    "## Unbiased Covariance Matrix"
   ]
  },
  {
   "cell_type": "markdown",
   "metadata": {},
   "source": [
    "Since the above case, the estimated covariance matrices are biased by nature. It is also interesting to see how unbiased covariance matrices differ from the biased ones. Thus, we can estimate an unbiased covariance matrix $\\Sigma_i$ with"
   ]
  },
  {
   "cell_type": "markdown",
   "metadata": {},
   "source": [
    "\n",
    "$$\n",
    "\\Sigma_i\n",
    "= \\frac{1}{n-1} \\sum_{k=1}^{n} \\left((x_k-\\mu_i)(x_k-\\mu_i)^\\mathsf{T} \\right) \n",
    "$$"
   ]
  },
  {
   "cell_type": "code",
   "execution_count": 34,
   "metadata": {},
   "outputs": [
    {
     "data": {
      "text/latex": [
       "$\\displaystyle \\mathrm{Unbiased}\\ \\mathbf{\\Sigma}_1 = \\begin{bmatrix}  1.2025 & -0.0396 \\\\ -0.0396 &  0.7115 \\\\ \\end{bmatrix}$"
      ],
      "text/plain": [
       "<IPython.core.display.Math object>"
      ]
     },
     "metadata": {},
     "output_type": "display_data"
    },
    {
     "data": {
      "text/latex": [
       "$\\displaystyle \\mathrm{Unbiased}\\ \\mathbf{\\Sigma}_2 = \\begin{bmatrix} 2.7844 & 0.2014 \\\\ 0.2014 & 3.7683 \\\\ \\end{bmatrix}$"
      ],
      "text/plain": [
       "<IPython.core.display.Math object>"
      ]
     },
     "metadata": {},
     "output_type": "display_data"
    },
    {
     "data": {
      "text/latex": [
       "$\\displaystyle \\mathrm{Unbiased}\\ \\mathbf{\\Sigma}_3 = \\begin{bmatrix}  5.5429 & -0.4794 \\\\ -0.4794 &  6.8944 \\\\ \\end{bmatrix}$"
      ],
      "text/plain": [
       "<IPython.core.display.Math object>"
      ]
     },
     "metadata": {},
     "output_type": "display_data"
    }
   ],
   "source": [
    "unbiased_cov = np.zeros((C, d, d))\n",
    "for c in range(C):\n",
    "    unbiased_cov[c] = compute_covariance_matrix(train_data[c], mu[c], bias_term=1)\n",
    "    show(r'\\mathrm{Unbiased}\\ \\mathbf{\\Sigma}_' + str(c+1), unbiased_cov[c])"
   ]
  },
  {
   "cell_type": "code",
   "execution_count": 35,
   "metadata": {},
   "outputs": [
    {
     "data": {
      "text/latex": [
       "$\\displaystyle \\mathrm{Unbiased\\ Numpy}\\ \\mathbf{\\Sigma}_1 = \\begin{bmatrix}  1.2025 & -0.0396 \\\\ -0.0396 &  0.7115 \\\\ \\end{bmatrix}$"
      ],
      "text/plain": [
       "<IPython.core.display.Math object>"
      ]
     },
     "metadata": {},
     "output_type": "display_data"
    },
    {
     "data": {
      "text/latex": [
       "$\\displaystyle \\mathrm{Unbiased\\ Numpy}\\ \\mathbf{\\Sigma}_2 = \\begin{bmatrix} 2.7844 & 0.2014 \\\\ 0.2014 & 3.7683 \\\\ \\end{bmatrix}$"
      ],
      "text/plain": [
       "<IPython.core.display.Math object>"
      ]
     },
     "metadata": {},
     "output_type": "display_data"
    },
    {
     "data": {
      "text/latex": [
       "$\\displaystyle \\mathrm{Unbiased\\ Numpy}\\ \\mathbf{\\Sigma}_3 = \\begin{bmatrix}  5.5429 & -0.4794 \\\\ -0.4794 &  6.8944 \\\\ \\end{bmatrix}$"
      ],
      "text/plain": [
       "<IPython.core.display.Math object>"
      ]
     },
     "metadata": {},
     "output_type": "display_data"
    }
   ],
   "source": [
    "np_unbiased_cov = np.zeros((C, d, d))\n",
    "for c in range(C):\n",
    "    np_unbiased_cov[c] = np.cov(train_data[c].T, bias=False)\n",
    "    show(r'\\mathrm{Unbiased\\ Numpy}\\ \\mathbf{\\Sigma}_' + str(c+1), np_unbiased_cov[c])"
   ]
  },
  {
   "cell_type": "code",
   "execution_count": 36,
   "metadata": {},
   "outputs": [
    {
     "name": "stdout",
     "output_type": "stream",
     "text": [
      "[unbiased] np.cov == compute_covariance_matrix? True\n"
     ]
    }
   ],
   "source": [
    "print(\"[unbiased] np.cov == compute_covariance_matrix?\", np.allclose(np_unbiased_cov, unbiased_cov))"
   ]
  },
  {
   "cell_type": "code",
   "execution_count": 37,
   "metadata": {},
   "outputs": [],
   "source": [
    "unbiased_confusion_matrix = np.zeros((C, C))\n",
    "\n",
    "for c in range(C):\n",
    "    for x in test_data[c]:\n",
    "        g = np.zeros(C)\n",
    "        for i in range(C):\n",
    "            g[i] = discriminant_fx(x, mu[i], unbiased_cov[i], priors[i])\n",
    "        pred_class = np.argmax(g)\n",
    "        unbiased_confusion_matrix[c][pred_class] += 1"
   ]
  },
  {
   "cell_type": "code",
   "execution_count": 38,
   "metadata": {},
   "outputs": [
    {
     "data": {
      "text/plain": [
       "array([[59., 11.,  0.],\n",
       "       [17., 62., 15.],\n",
       "       [ 0.,  7., 39.]])"
      ]
     },
     "execution_count": 38,
     "metadata": {},
     "output_type": "execute_result"
    }
   ],
   "source": [
    "unbiased_confusion_matrix"
   ]
  },
  {
   "cell_type": "markdown",
   "metadata": {},
   "source": [
    "| | (predicted) 1 | (predicted) 2 | (predicted) 3 |\n",
    "| :-: | :-: | :-: | :-: |\n",
    "|<b>(actual) 1</b>|59|11|0|\n",
    "|<b>(actual) 2</b>|15|61|18|\n",
    "|<b>(actual) 3</b>|0|7|39|\n",
    "<center>Table 2: Confusion matrix of the model with the estimated parameter $\\mu_i$ and <strong>unbiased</strong> $\\Sigma_i$ using Maximum Likelihood Estimation</center>"
   ]
  },
  {
   "cell_type": "markdown",
   "metadata": {},
   "source": [
    "Well, the results from using biased and unbiased covariance matrices are different a little bit. Some noticeable changes are as follows:\n",
    "\n",
    "- The number of samples are classified as class 1 but actually they are from class 2: changed from 15 to 17\n",
    "- The number of samples are classified as class 2 and actually they are from class 2: increased from 61 to 62\n",
    "- The number of samples are classified as class 3 but actually they are from class 2: changed from 18 to 15\n",
    "\n",
    "Obviously, the test samples that are affected are only from class 2."
   ]
  },
  {
   "cell_type": "code",
   "execution_count": 39,
   "metadata": {},
   "outputs": [
    {
     "data": {
      "text/latex": [
       "$\\displaystyle \\mathrm{[Unbiased]\\ Test\\ Accuracy} = 0.7619$"
      ],
      "text/plain": [
       "<IPython.core.display.Math object>"
      ]
     },
     "metadata": {},
     "output_type": "display_data"
    },
    {
     "data": {
      "text/latex": [
       "$\\displaystyle \\mathrm{[Unbiased]\\ Test\\ Error} = 0.2381$"
      ],
      "text/plain": [
       "<IPython.core.display.Math object>"
      ]
     },
     "metadata": {},
     "output_type": "display_data"
    }
   ],
   "source": [
    "unbiased_accuracy = unbiased_confusion_matrix.trace() / unbiased_confusion_matrix.sum()\n",
    "unbiased_error = 1 - unbiased_accuracy\n",
    "\n",
    "show('\\mathrm{[Unbiased]\\ Test\\ Accuracy}', unbiased_accuracy)\n",
    "show('\\mathrm{[Unbiased]\\ Test\\ Error}', unbiased_error)"
   ]
  },
  {
   "cell_type": "markdown",
   "metadata": {},
   "source": [
    "Well, the good news is the test accuracy from using the unbiased covariance matrices are increased by $0.48\\%$ (from $75.71\\%$ to $76.19\\%$). Therefore, the test error also decreases by the same amount."
   ]
  },
  {
   "cell_type": "markdown",
   "metadata": {},
   "source": [
    "## Bayesian Estimation"
   ]
  },
  {
   "cell_type": "markdown",
   "metadata": {},
   "source": [
    "Here, we transform the data by converting them from Cartesian Coordinates $(x, y)$ to Polar Coordinates $(r, \\theta)$ using the `cart2pol` function below."
   ]
  },
  {
   "cell_type": "code",
   "execution_count": 40,
   "metadata": {},
   "outputs": [],
   "source": [
    "def cart2pol(x, y):\n",
    "    rho = np.sqrt(x**2 + y**2)\n",
    "    theta = np.arctan2(y, x)\n",
    "    return rho, theta"
   ]
  },
  {
   "cell_type": "code",
   "execution_count": 41,
   "metadata": {},
   "outputs": [],
   "source": [
    "transformed_train_data, transformed_test_data = [], []\n",
    "\n",
    "for c in range(C):\n",
    "    rho, theta = cart2pol(train_data[c][:, 0], train_data[c][:, 1])\n",
    "    transformed_train_data.append(np.vstack((rho, theta)).T)\n",
    "    \n",
    "    rho, theta = cart2pol(test_data[c][:, 0], test_data[c][:, 1])\n",
    "    transformed_test_data.append(np.vstack((rho, theta)).T)"
   ]
  },
  {
   "cell_type": "markdown",
   "metadata": {},
   "source": [
    "Let's visualize the transformed training samples in polar coordinates. The scatter plot of them are shown below. "
   ]
  },
  {
   "cell_type": "code",
   "execution_count": 42,
   "metadata": {},
   "outputs": [
    {
     "data": {
      "image/png": "[encoded data removed]",
      "text/plain": [
       "<Figure size 800x800 with 1 Axes>"
      ]
     },
     "execution_count": 42,
     "metadata": {},
     "output_type": "execute_result"
    }
   ],
   "source": [
    "plot_2d_features(transformed_train_data, x_label=\"$r$\", y_label=r\"$\\theta$\", title=\"Training samples in polar coordinates\")"
   ]
  },
  {
   "cell_type": "markdown",
   "metadata": {},
   "source": [
    "Ditch the dimension of $\\theta$, we are now interested in the dimension of $r$ only. The reason is we cannot use the information of $\\theta$ to distinguish the samples."
   ]
  },
  {
   "cell_type": "code",
   "execution_count": 43,
   "metadata": {},
   "outputs": [],
   "source": [
    "def plot_1d_feature(data, is_sort=False):\n",
    "    sample_colors = ('deepskyblue', 'hotpink', 'mediumseagreen')\n",
    "    sample_markers = ('o', 's', '^')\n",
    "    \n",
    "    fig, ax = plt.subplots(figsize=(8, 2))\n",
    "\n",
    "    for c in range(C):\n",
    "        X = data[c][:, 0]\n",
    "        if is_sort:\n",
    "            X = np.sort(X)\n",
    "            offsets = np.arange(0, len(X), 1) * 0.001\n",
    "        else:\n",
    "            offsets = 0\n",
    "        ax.scatter(X, np.zeros_like(X) + offsets, color=sample_colors[c], edgecolor=\"black\", linewidth=0.4, alpha=0.7, marker=sample_markers[c], label=f\"$\\omega_{c+1}$\")\n",
    "\n",
    "    ax.get_yaxis().set_ticks([])\n",
    "    for side in (\"left\", \"right\", \"top\"):\n",
    "        ax.spines[side].set_visible(False)\n",
    "\n",
    "    ax.set_title(\"Training samples in polar coordinates\", fontsize=14)\n",
    "    ax.set_xlabel(\"$r$\", fontsize=14)\n",
    "    ax.set_ylim(-0.025, 0.08)\n",
    "    ax.legend(loc='center left', bbox_to_anchor=(1, 0.5), prop={'size': 12})\n",
    "\n",
    "    plt.show()"
   ]
  },
  {
   "cell_type": "code",
   "execution_count": 44,
   "metadata": {},
   "outputs": [
    {
     "data": {
      "image/png": "[encoded data removed]",
      "text/plain": [
       "<Figure size 800x200 with 1 Axes>"
      ]
     },
     "metadata": {
      "needs_background": "light"
     },
     "output_type": "display_data"
    }
   ],
   "source": [
    "plot_1d_feature(transformed_train_data, is_sort=False)"
   ]
  },
  {
   "cell_type": "markdown",
   "metadata": {},
   "source": [
    "We only have one axis (1-d) data, but for the sake of visualization, the height of each sample is added. This allows us to see some overlapped samples."
   ]
  },
  {
   "cell_type": "code",
   "execution_count": 45,
   "metadata": {},
   "outputs": [
    {
     "data": {
      "image/png": "[encoded data removed]",
      "text/plain": [
       "<Figure size 800x200 with 1 Axes>"
      ]
     },
     "metadata": {
      "needs_background": "light"
     },
     "output_type": "display_data"
    }
   ],
   "source": [
    "plot_1d_feature(transformed_train_data, is_sort=True)"
   ]
  },
  {
   "cell_type": "markdown",
   "metadata": {},
   "source": [
    "Assume that each class has the following properties:\n",
    "\n",
    "- $p(r|\\omega_i) \\sim \\mathcal{N}(\\mu_i, \\sigma^2)$\n",
    "- Unknown $\\mu_i$"
   ]
  },
  {
   "cell_type": "markdown",
   "metadata": {},
   "source": [
    "Known variance $\\sigma^2 = 0.25$"
   ]
  },
  {
   "cell_type": "code",
   "execution_count": 46,
   "metadata": {},
   "outputs": [],
   "source": [
    "var = 0.25"
   ]
  },
  {
   "cell_type": "markdown",
   "metadata": {},
   "source": [
    "Prior $p(\\mu_i) \\sim \\mathcal{N}(\\mu_0 = 0, \\sigma_0^2 = 100)$ "
   ]
  },
  {
   "cell_type": "code",
   "execution_count": 47,
   "metadata": {},
   "outputs": [],
   "source": [
    "prior_mu = [0, 0, 0]\n",
    "prior_var = [100, 100, 100]"
   ]
  },
  {
   "cell_type": "markdown",
   "metadata": {},
   "source": [
    "### The Desired Class-conditional Density $p(r | \\omega_i, D_i)$"
   ]
  },
  {
   "cell_type": "markdown",
   "metadata": {},
   "source": [
    "$$\n",
    "p(r|\\omega_i,D_i) = \\int p(r|\\mu_i) p(\\mu_i|D_i) \\,d\\mu_i\n",
    "$$"
   ]
  },
  {
   "cell_type": "markdown",
   "metadata": {},
   "source": [
    "As we know from the question that,\n",
    "$$\n",
    "p(r|\\mu_i) \\sim \\mathcal{N}(\\mu_i, \\sigma^2)\n",
    "$$\n",
    "\n",
    "This means that a posteriori density $p(\\mu_i | \\mathcal{D}_i)$ is the only term that we need to derive."
   ]
  },
  {
   "cell_type": "markdown",
   "metadata": {},
   "source": [
    "$$\n",
    "\\begin{align*}\n",
    "p(\\mu | \\mathcal{D})\n",
    "&= \\frac{p(\\mathcal{D} | \\mu) p(\\mu)}{\\int p(\\mathcal{D} | \\mu) p(\\mu) d\\,\\mu}\\\\\n",
    "&= \\frac{\\prod_{k=1}^{n} p(\\mathcal{x_k} | \\mu) p(\\mu)}{\\int \\prod_{k=1}^{n} p(\\mathcal{x_k} | \\mu) p(\\mu) d\\,\\mu}\\\\\n",
    "&= \\alpha \\prod_{k=1}^{n} p(\\mathcal{x_k} | \\mu) p(\\mu)\\\\\n",
    "\\end{align*}\n",
    "$$\n",
    "\n",
    "We have the constant $\\alpha$ that represents a normalization factor (integration in the denominator) since it does not depend on $\\mu$."
   ]
  },
  {
   "cell_type": "markdown",
   "metadata": {},
   "source": [
    "$$\n",
    "\\begin{align*}\n",
    "p(\\mu | \\mathcal{D})\n",
    "&= \\alpha \\prod_{k=1}^{n} p(\\mathcal{x_k} | \\mu) \\cdot p(\\mu)\\\\\n",
    "&= \\alpha \\prod_{k=1}^{n} \\frac{1}{\\sqrt{2 \\pi} \\sigma} e^{-\\frac{1}{2} \\left( \\frac{x_k - \\mu}{\\sigma} \\right)^2} \\cdot \\frac{1}{\\sqrt{2 \\pi} \\sigma_0} e^{-\\frac{1}{2} \\left( \\frac{\\mu - \\mu_0}{\\sigma_0} \\right)^2}\\\\\n",
    "&= \\alpha \\frac{1}{\\sqrt{2 \\pi} \\sigma} \\frac{1}{\\sqrt{2 \\pi} \\sigma_0} \\prod_{k=1}^{n} e^{-\\frac{1}{2} \\left( \\frac{x_k - \\mu}{\\sigma} \\right)^2} \\cdot e^{-\\frac{1}{2} \\left( \\frac{\\mu - \\mu_0}{\\sigma_0} \\right)^2}\\\\\n",
    "&= \\alpha' \\prod_{k=1}^{n} e^{-\\frac{1}{2} \\left( \\frac{x_k - \\mu}{\\sigma} \\right)^2} \\cdot e^{-\\frac{1}{2} \\left( \\frac{\\mu - \\mu_0}{\\sigma_0} \\right)^2}\\\\\n",
    "&= \\alpha' \\exp{\\left( \\sum_{k=1}^{n} -\\frac{1}{2} \\left( \\frac{x_k - \\mu}{\\sigma} \\right)^2 + \\left[-\\frac{1}{2} \\left( \\frac{\\mu - \\mu_0}{\\sigma_0} \\right)^2 \\right] \\right)}\\\\\n",
    "&= \\alpha' \\exp{\\left( -\\frac{1}{2} \\left[ \\sum_{k=1}^{n} \\left( \\frac{x_k - \\mu}{\\sigma} \\right)^2 + \\left( \\frac{\\mu - \\mu_0}{\\sigma_0} \\right)^2 \\right] \\right)}\\\\\n",
    "&= \\alpha' \\exp{\\left( -\\frac{1}{2} \\left[ \\sum_{k=1}^{n} \\frac{(x_k - \\mu)^2}{\\sigma^2}  + \\frac{(\\mu - \\mu_0)^2}{\\sigma_0^2} \\right] \\right)}\\\\\n",
    "&= \\alpha' \\exp{\\left( -\\frac{1}{2} \\left[ \\sum_{k=1}^{n} \\frac{x_k^2 - 2 x_k \\mu + \\mu^2}{\\sigma^2}  + \\frac{\\mu^2 - 2 \\mu \\mu_0 + \\mu_0^2}{\\sigma_0^2} \\right] \\right)}\\\\\n",
    "&= \\alpha' \\exp{\\left( -\\frac{1}{2} \\left[ \\frac{\\sum_{k=1}^{n}x_k^2}{\\sigma^2} - \\frac{\\sum_{k=1}^{n} 2 x_k \\mu}{\\sigma^2} + \\frac{n\\mu^2}{\\sigma^2} + \\frac{\\mu^2}{\\sigma_0^2} - \\frac{2 \\mu \\mu_0}{\\sigma_0^2} + \\frac{\\mu_0^2}{\\sigma_0^2} \\right] \\right)}\\\\\n",
    "&= \\alpha' \\exp{\\left( -\\frac{1}{2} \\left[\n",
    "\\left(\n",
    "\\frac{n\\mu^2}{\\sigma^2} + \\frac{\\mu^2}{\\sigma_0^2} \\right)\n",
    "+ \\left(- \\frac{\\sum_{k=1}^{n} 2 x_k \\mu}{\\sigma^2} - \\frac{2 \\mu \\mu_0}{\\sigma_0^2} \\right)\\\\\n",
    "+ \\left( \\frac{\\sum_{k=1}^{n}x_k^2}{\\sigma^2} + \\frac{\\mu_0^2}{\\sigma_0^2}\n",
    "\\right)\n",
    "\\right] \\right)}\\\\\n",
    "&= \\alpha'' \\exp{\\left( -\\frac{1}{2} \\left[ \\left( \\frac{n\\mu^2}{\\sigma^2} + \\frac{\\mu^2}{\\sigma_0^2} \\right) + \\left(- \\frac{\\sum_{k=1}^{n} 2 x_k \\mu}{\\sigma^2} - \\frac{2 \\mu \\mu_0}{\\sigma_0^2} \\right) \\right] \\right)}\\\\\n",
    "&= \\alpha'' \\exp{\\left( -\\frac{1}{2} \\left[ \\left( \\frac{n}{\\sigma^2} + \\frac{1}{\\sigma_0^2} \\right)\\mu^2 - 2 \\mu\\left(\\frac{\\sum_{k=1}^{n} x_k}{\\sigma^2} + \\frac{\\mu_0}{\\sigma_0^2} \\right) \\right] \\right)}\\\\\n",
    "\\end{align*}\n",
    "$$"
   ]
  },
  {
   "cell_type": "markdown",
   "metadata": {},
   "source": [
    "$p(\\mu|\\mathcal{D})$ is in the form of an exponential function of $\\mu^2$ and $\\mu$. If we assume that $p(\\mu|\\mathcal{D})$ is a normal density as follows:\n",
    "\n",
    "$$\n",
    "p(\\mu|\\mathcal{D}) \\sim \\mathcal{N}(\\mu_n, \\sigma_n^2)\n",
    "$$\n",
    "\n",
    "where $\\mu_n$ is the estimated mean, and $\\sigma_n^2$ is the estimated variance.\n"
   ]
  },
  {
   "cell_type": "markdown",
   "metadata": {},
   "source": [
    "$$\n",
    "\\begin{align*}\n",
    "p(\\mu | \\mathcal{D})\n",
    "&= \\frac{1}{\\sqrt{2 \\pi} \\sigma_n} \\exp{\\left( -\\frac{1}{2} \\left( \\frac{(\\mu - \\mu_n)^2}{\\sigma_n^2} \\right) \\right)}\\\\\n",
    "&= \\frac{1}{\\sqrt{2 \\pi} \\sigma_n} \\exp{\\left( -\\frac{1}{2} \\left( \\frac{\\mu^2 - 2 \\mu \\mu_n + \\mu_n^2}{\\sigma_n^2} \\right) \\right)}\\\\\n",
    "&= \\frac{1}{\\sqrt{2 \\pi} \\sigma_n} \\exp{\\left( -\\frac{1}{2} \\left( \\frac{\\mu^2}{\\sigma_n^2} - \\frac{2 \\mu \\mu_n}{\\sigma_n^2} + \\frac{\\mu_n^2}{\\sigma_n^2} \\right) \\right)}\\\\\n",
    "&= \\frac{1}{\\sqrt{2 \\pi} \\sigma_n} \\exp{\\left( -\\frac{1}{2} \\left( \\left[ \\frac{1}{\\sigma_n^2} \\right] \\mu^2 - 2 \\mu \\left[ \\frac{\\mu_n}{\\sigma_n^2} \\right] + \\frac{\\mu_n^2}{\\sigma_n^2} \\right) \\right)}\\\\\n",
    "\\end{align*}\n",
    "$$"
   ]
  },
  {
   "cell_type": "markdown",
   "metadata": {},
   "source": [
    "Thus, we can estimate $\\mu_n$ and $\\sigma_n^2$ by equating the above equation with a normal distribution."
   ]
  },
  {
   "cell_type": "markdown",
   "metadata": {},
   "source": [
    "$$\n",
    "\\begin{align*}\n",
    "p(\\mu | \\mathcal{D}) &= \\frac{1}{\\sqrt{2 \\pi} \\sigma_n} \\exp{\\left( -\\frac{1}{2} \\left( \\left[ \\frac{1}{\\sigma_n^2} \\right] \\mu^2 - 2 \\mu \\left[ \\frac{\\mu_n}{\\sigma_n^2} \\right] + \\frac{\\mu_n^2}{\\sigma_n^2} \\right) \\right)}\\\\\n",
    "p(\\mu | \\mathcal{D}) &= \\alpha'' \\exp{\\left( -\\frac{1}{2} \\left( \\left[ \\frac{n}{\\sigma^2} + \\frac{1}{\\sigma_0^2} \\right]\\mu^2 - 2 \\mu \\left[\\frac{\\sum_{k=1}^{n} x_k}{\\sigma^2} + \\frac{\\mu_0}{\\sigma_0^2} \\right] \\right) \\right)}\\\\\n",
    "\\end{align*}\n",
    "$$"
   ]
  },
  {
   "cell_type": "markdown",
   "metadata": {},
   "source": [
    "Comparing the coefficients of the first terms in the exponential ($\\mu_n^2$ and $\\mu^2$) between left hand side and right hand side gives us:\n",
    "\n",
    "$$\n",
    "\\begin{align*}\n",
    "\\frac{1}{\\sigma_n^2} &= \\frac{n}{\\sigma^2} + \\frac{1}{\\sigma_0^2}\\\\\n",
    "\\frac{1}{\\sigma_n^2} &= \\frac{n \\sigma_0^2 + \\sigma^2}{\\sigma^2 \\sigma_0^2}\\\\\n",
    "\\sigma_n^2 &= \\frac{\\sigma^2 \\sigma_0^2}{n \\sigma_0^2 + \\sigma^2}\n",
    "\\end{align*}\n",
    "$$"
   ]
  },
  {
   "cell_type": "code",
   "execution_count": 48,
   "metadata": {},
   "outputs": [
    {
     "data": {
      "text/latex": [
       "$\\displaystyle \\sigma^2_1 = 0.0083$"
      ],
      "text/plain": [
       "<IPython.core.display.Math object>"
      ]
     },
     "metadata": {},
     "output_type": "display_data"
    },
    {
     "data": {
      "text/latex": [
       "$\\displaystyle \\sigma^2_2 = 0.0050$"
      ],
      "text/plain": [
       "<IPython.core.display.Math object>"
      ]
     },
     "metadata": {},
     "output_type": "display_data"
    },
    {
     "data": {
      "text/latex": [
       "$\\displaystyle \\sigma^2_3 = 0.0125$"
      ],
      "text/plain": [
       "<IPython.core.display.Math object>"
      ]
     },
     "metadata": {},
     "output_type": "display_data"
    }
   ],
   "source": [
    "bayes_var = np.zeros(C)\n",
    "\n",
    "for c in range(C):\n",
    "    X = transformed_train_data[c][:, 0]\n",
    "    n = len(X)\n",
    "    bayes_var[c] = (var * prior_var[c]) / ((n * prior_var[c]) + var)\n",
    "    show(r'\\sigma^2_'+str(c+1), bayes_var[c], precision=4)"
   ]
  },
  {
   "cell_type": "markdown",
   "metadata": {},
   "source": [
    "We can also compare the coefficients of the second terms in the exponential ($\\mu_n$ and $\\mu$) between left hand side and right hand side. This gives us:\n",
    "\n",
    "$$\n",
    "\\begin{align*}\n",
    "\\frac{\\mu_n}{\\sigma_n^2}\n",
    "&= \\frac{\\sum_{k=1}^{n} x_k}{\\sigma^2} + \\frac{\\mu_0}{\\sigma_0^2}\\\\\n",
    "&= \\frac{1}{\\sigma^2} \\sum_{k=1}^{n} x_k + \\frac{\\mu_0}{\\sigma_0^2}\\\\\n",
    "&= \\frac{1}{\\sigma^2} \\frac{n}{n} \\sum_{k=1}^{n} x_k + \\frac{\\mu_0}{\\sigma_0^2}\\\\\n",
    "&= \\frac{1}{\\sigma^2} n \\left[ \\frac{1}{n} \\sum_{k=1}^{n} x_k \\right] + \\frac{\\mu_0}{\\sigma_0^2}\\\\\n",
    "&= \\frac{1}{\\sigma^2} n \\bar{x_n} + \\frac{\\mu_0}{\\sigma_0^2}\\\\\n",
    "\\frac{\\mu_n}{\\sigma_n^2}\n",
    "&= \\frac{n}{\\sigma^2} \\bar{x_n} + \\frac{\\mu_0}{\\sigma_0^2}\\\\\n",
    "\\mu_n\n",
    "&= \\sigma_n^2 \\left( \\frac{n}{\\sigma^2} \\bar{x_n} + \\frac{\\mu_0}{\\sigma_0^2} \\right)\\\\\n",
    "&= \\frac{n \\sigma_n^2}{\\sigma^2} \\bar{x_n} + \\frac{\\sigma_n^2}{\\sigma_0^2} \\mu_0 \\\\\n",
    "&= \\frac{n}{\\sigma^2} \\left[ \\frac{\\sigma^2 \\sigma_0^2}{n \\sigma_0^2 + \\sigma^2} \\right] \\bar{x_n} + \\frac{1}{\\sigma_0^2} \\left[ \\frac{\\sigma^2 \\sigma_0^2}{n \\sigma_0^2 + \\sigma^2} \\right] \\mu_0 \\\\\n",
    "\\mu_n\n",
    "&= \\frac{n \\sigma_0^2}{n \\sigma_0^2 + \\sigma^2} \\bar{x_n} + \\frac{\\sigma^2}{n \\sigma_0^2 + \\sigma^2} \\mu_0 \\\\\n",
    "\\end{align*}\n",
    "$$"
   ]
  },
  {
   "cell_type": "markdown",
   "metadata": {},
   "source": [
    "where the sample mean $\\bar{x}_n$ is:"
   ]
  },
  {
   "cell_type": "markdown",
   "metadata": {},
   "source": [
    "$$\n",
    "\\bar{x}_n = \\frac{1}{n} \\sum_{k=1}^{n} x_k\n",
    "$$"
   ]
  },
  {
   "cell_type": "markdown",
   "metadata": {},
   "source": [
    "Based on the derived $\\sigma_n^2$, we can arrive at a final form of computing $\\mu_n$ without the dependency of $\\sigma_n^2$. "
   ]
  },
  {
   "cell_type": "code",
   "execution_count": 49,
   "metadata": {},
   "outputs": [],
   "source": [
    "def estimate_bayes_mu(X, var, prior_mu, prior_var):\n",
    "    n = len(X)\n",
    "    x_bar = compute_mean(X)\n",
    "    bayes_mu = ((n * prior_var) / ((n * prior_var) + var)) * x_bar\n",
    "    bayes_mu += (var / ((n * prior_var) + var)) * prior_mu\n",
    "    return bayes_mu"
   ]
  },
  {
   "cell_type": "code",
   "execution_count": 50,
   "metadata": {},
   "outputs": [
    {
     "data": {
      "text/latex": [
       "$\\displaystyle \\mu_1 = 1.2673$"
      ],
      "text/plain": [
       "<IPython.core.display.Math object>"
      ]
     },
     "metadata": {},
     "output_type": "display_data"
    },
    {
     "data": {
      "text/latex": [
       "$\\displaystyle \\mu_2 = 2.5134$"
      ],
      "text/plain": [
       "<IPython.core.display.Math object>"
      ]
     },
     "metadata": {},
     "output_type": "display_data"
    },
    {
     "data": {
      "text/latex": [
       "$\\displaystyle \\mu_3 = 3.4866$"
      ],
      "text/plain": [
       "<IPython.core.display.Math object>"
      ]
     },
     "metadata": {},
     "output_type": "display_data"
    }
   ],
   "source": [
    "bayes_mu = np.zeros(C)\n",
    "\n",
    "for c in range(C):\n",
    "    X = transformed_train_data[c][:, 0]\n",
    "    bayes_mu[c] = estimate_bayes_mu(X, var, prior_mu[c], prior_var[c])\n",
    "    show(r'\\mu_' + str(c+1), bayes_mu[c])"
   ]
  },
  {
   "cell_type": "markdown",
   "metadata": {},
   "source": [
    "Next, the desired class-conditional density $p(r|\\mathcal{D})$ will be derived based on the a posteriori density $p(\\mu|\\mathcal{D})$.\n",
    "\n",
    "<u>Note</u>: Whereas we are focusing on $p(r|\\mathcal{D})$, its true form is actually $p(r|\\omega_i, \\mathcal{D_i})$. We just drop the class distinctions for simplicity.\n",
    "- $\\mathcal{D}$ is the dataset of a class. It can be $\\mathcal{D}_i$ where $i = 1, \\dots, C$.\n",
    "\n",
    "As we use both the prior probability $p(\\mu_i | \\mathcal{D})$ and the probability density $p(r | \\mu_i)$, we arrive at:\n",
    "$$\n",
    "\\begin{align*}\n",
    "p(r|\\mathcal{D}) \n",
    "&= \\int p(r|\\mu_i) \\cdot p(\\mu_i|\\mathcal{D}) \\,d\\mu_i\\\\\n",
    "&= \\int \\frac{1}{\\sqrt{2 \\pi} \\sigma} \\exp \\left[ -\\frac{1}{2} \\left( \\frac{x - \\mu}{\\sigma} \\right)^2 \\right]\n",
    "\\cdot \\int \\frac{1}{\\sqrt{2 \\pi} \\sigma_n} \\exp \\left[ -\\frac{1}{2} \\left( \\frac{\\mu - \\mu_n}{\\sigma_n} \\right)^2 \\right] \\,d\\mu\\\\\n",
    "\\end{align*}\n",
    "$$"
   ]
  },
  {
   "cell_type": "markdown",
   "metadata": {},
   "source": [
    "We pull the terms that do not relate to $\\mu$ out, we get\n",
    "\n",
    "$$\n",
    "\\begin{align*}\n",
    "p(r|\\mathcal{D}) \n",
    "&= \\frac{1}{2 \\pi \\sigma \\sigma_n} \\exp \\left[ -\\frac{1}{2} \\frac{(x - \\mu_n)^2}{\\sigma^2 + \\sigma_n^2} \\right]\n",
    "\\cdot \\int \\exp \\left[ -\\frac{1}{2} \\frac{\\sigma^2 + \\sigma_n^2}{\\sigma^2 \\sigma_n^2} \\left( \\mu - \\frac{\\sigma_n^2 x + \\sigma^2 \\mu_n}{\\sigma^2 + \\sigma_n^2} \\right)^2 \\right] \\,d\\mu\\\\\n",
    "\\end{align*}\n",
    "$$"
   ]
  },
  {
   "cell_type": "markdown",
   "metadata": {},
   "source": [
    "From the first term of the above equation, we can see that $p(r|\\mathcal{D})$ can be viewed as an approximate normal distribution where $\\mu_n$ is the mean, and $\\sigma^2 + \\sigma_n^2$ is the variance."
   ]
  },
  {
   "cell_type": "markdown",
   "metadata": {},
   "source": [
    "$$\n",
    "p(r|\\mathcal{D}) \\sim \\mathcal{N}(\\mu_n, \\sigma^2 + \\sigma_n^2)\n",
    "$$"
   ]
  },
  {
   "cell_type": "code",
   "execution_count": 51,
   "metadata": {},
   "outputs": [],
   "source": [
    "def normal_distribution(x, mu, var):\n",
    "    return np.exp(-0.5 * ((x - mu)**2 / var)) / np.sqrt(2 * np.pi * var)"
   ]
  },
  {
   "cell_type": "code",
   "execution_count": 52,
   "metadata": {},
   "outputs": [],
   "source": [
    "a_posteriori_densities = []\n",
    "\n",
    "x_values = np.arange(0, 5.001, 0.001)\n",
    "for c in range(C):\n",
    "    y_values = [normal_distribution(x, bayes_mu[c], var + bayes_var[c]) for x in x_values]\n",
    "    y_values /= np.sum(y_values)\n",
    "    a_posteriori_densities.append(y_values)"
   ]
  },
  {
   "cell_type": "code",
   "execution_count": 53,
   "metadata": {},
   "outputs": [
    {
     "data": {
      "image/png": "[encoded data removed]",
      "text/plain": [
       "<Figure size 1000x600 with 1 Axes>"
      ]
     },
     "metadata": {
      "needs_background": "light"
     },
     "output_type": "display_data"
    }
   ],
   "source": [
    "mean_colors = ('blue', 'deeppink', 'green')\n",
    "\n",
    "fig, ax = plt.subplots(figsize=(10, 6))\n",
    "\n",
    "for c, y_values in enumerate(a_posteriori_densities):\n",
    "    ax.plot(x_values, y_values, linewidth=4, color=mean_colors[c], label=r\"$p(r|D_\" + str(c+1) + \")$\")\n",
    "\n",
    "ax.set_xlabel(r\"$r$\", size=14)\n",
    "ax.set_ylabel(r\"$p(r|D_i)$\", size=14)\n",
    "ax.set_title(\"The desired class-conditional densities\")\n",
    "ax.legend()\n",
    "\n",
    "plt.show()"
   ]
  },
  {
   "cell_type": "markdown",
   "metadata": {},
   "source": [
    "### Classification"
   ]
  },
  {
   "cell_type": "markdown",
   "metadata": {},
   "source": [
    "We use the estimated class-conditional densities to classify the test data. Again, the class $i$ with the maximum class-conditional densities at $r$ will be selected."
   ]
  },
  {
   "cell_type": "markdown",
   "metadata": {},
   "source": [
    "$$\n",
    "\\hat{y}(r) = \\operatorname*{argmax}_{i} p(r|\\omega_i, \\mathcal{D}_i)\n",
    "$$"
   ]
  },
  {
   "cell_type": "markdown",
   "metadata": {},
   "source": [
    "### Confusion Matrix"
   ]
  },
  {
   "cell_type": "code",
   "execution_count": 54,
   "metadata": {},
   "outputs": [],
   "source": [
    "bayes_confusion_matrix = np.zeros((C, C))\n",
    "\n",
    "for c in range(C):\n",
    "    for x, _ in transformed_test_data[c]:\n",
    "        class_conditional_densities = np.zeros(C)\n",
    "        for i in range(C):\n",
    "            class_conditional_densities[i] = normal_distribution(x, bayes_mu[i], var + bayes_var[i])\n",
    "        pred_class = np.argmax(class_conditional_densities)\n",
    "        bayes_confusion_matrix[c][pred_class] += 1"
   ]
  },
  {
   "cell_type": "code",
   "execution_count": 55,
   "metadata": {},
   "outputs": [
    {
     "data": {
      "text/plain": [
       "array([[66.,  4.,  0.],\n",
       "       [10., 67., 17.],\n",
       "       [ 0.,  3., 43.]])"
      ]
     },
     "execution_count": 55,
     "metadata": {},
     "output_type": "execute_result"
    }
   ],
   "source": [
    "bayes_confusion_matrix"
   ]
  },
  {
   "cell_type": "markdown",
   "metadata": {},
   "source": [
    "| | (predicted) 1 | (predicted) 2 | (predicted) 3 |\n",
    "| :-: | :-: | :-: | :-: |\n",
    "|<b>(actual) 1</b>|66|4|0|\n",
    "|<b>(actual) 2</b>|10|67|17|\n",
    "|<b>(actual) 3</b>|0|3|43|\n",
    "\n",
    "<center>Table 3: Confusion matrix of the model with the estimated parameter $\\mu_i$ using Bayesian Estimation</center>"
   ]
  },
  {
   "cell_type": "markdown",
   "metadata": {},
   "source": [
    "According to the confusion matrix shown above, most of the samples are classified correctly. They are placed in the diagonal of the confusion matrix. On the other hand, there are misclassified samples that are off-diagonal of the confusion matrix.\n",
    "\n",
    "- 4 samples are classified as class 2 but actually they are from class 1\n",
    "- 10 samples are classified as class 1 but actually they are from class 2\n",
    "- 17 samples are classified as class 3 but actually they are from class 2\n",
    "- 3 samples are classified as class 2 but actually they are from class 3"
   ]
  },
  {
   "cell_type": "code",
   "execution_count": 56,
   "metadata": {},
   "outputs": [
    {
     "data": {
      "text/latex": [
       "$\\displaystyle \\mathrm{Test\\ Accuracy} = 0.8381$"
      ],
      "text/plain": [
       "<IPython.core.display.Math object>"
      ]
     },
     "metadata": {},
     "output_type": "display_data"
    },
    {
     "data": {
      "text/latex": [
       "$\\displaystyle \\mathrm{Test\\ Error} = 0.1619$"
      ],
      "text/plain": [
       "<IPython.core.display.Math object>"
      ]
     },
     "metadata": {},
     "output_type": "display_data"
    }
   ],
   "source": [
    "bayes_accuracy = bayes_confusion_matrix.trace() / bayes_confusion_matrix.sum()\n",
    "bayes_error = 1 - bayes_accuracy\n",
    "\n",
    "show('\\mathrm{Test\\ Accuracy}', bayes_accuracy)\n",
    "show('\\mathrm{Test\\ Error}', bayes_error)"
   ]
  },
  {
   "cell_type": "markdown",
   "metadata": {},
   "source": [
    "This time, the test accuracy based on the estimated parameters $\\mu_i$ using Bayesian Estimation can attain $83.81\\%$ test accuracy. The test error is then equal to $16.19\\%$.\n",
    "\n",
    "- Comparing this to the previous MLE method with **biased** covariance matrices, BE provides us a better test accuracy by a margin of $8.1\\%$.\n",
    "- Comparing this to the previous MLE method with **unbiased** covariance matrices, BE provides us a better test accuracy by a margin of $7.62\\%$."
   ]
  }
 ],
 "metadata": {
  "kernelspec": {
   "display_name": "Python 3",
   "language": "python",
   "name": "python3"
  },
  "language_info": {
   "codemirror_mode": {
    "name": "ipython",
    "version": 3
   },
   "file_extension": ".py",
   "mimetype": "text/x-python",
   "name": "python",
   "nbconvert_exporter": "python",
   "pygments_lexer": "ipython3",
   "version": "3.8.5"
  },
  "toc-autonumbering": false,
  "toc-showcode": false,
  "toc-showmarkdowntxt": false,
  "toc-showtags": false
 },
 "nbformat": 4,
 "nbformat_minor": 4
}
